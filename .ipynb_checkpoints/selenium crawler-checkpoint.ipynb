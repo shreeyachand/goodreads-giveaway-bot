{
 "cells": [
  {
   "cell_type": "code",
   "execution_count": null,
   "id": "d0129e33",
   "metadata": {
    "scrolled": true
   },
   "outputs": [],
   "source": [
    "from bs4 import BeautifulSoup\n",
    "import requests\n",
    "\n",
    "LOGIN_URL = 'https://www.goodreads.com/ap/signin?language=en_US&openid.assoc_handle=amzn_goodreads_web_na&openid.claimed_id=http%3A%2F%2Fspecs.openid.net%2Fauth%2F2.0%2Fidentifier_select&openid.identity=http%3A%2F%2Fspecs.openid.net%2Fauth%2F2.0%2Fidentifier_select&openid.mode=checkid_setup&openid.ns=http%3A%2F%2Fspecs.openid.net%2Fauth%2F2.0&openid.pape.max_auth_age=0&openid.return_to=https%3A%2F%2Fwww.goodreads.com%2Fap-handler%2Fsign-in&siteState=9d41b12ad9035ba77bca9d3914dea2ca'\n",
    "\n",
    "def get_input(html, name):\n",
    "    soup = BeautifulSoup(html, \"html.parser\")\n",
    "    token = soup.find('input', attrs={'name': name})\n",
    "    if not token:\n",
    "        print('could not find `' + name + '` on login form')\n",
    "        return\n",
    "    return token.get('value').strip()\n",
    "\n",
    "\"\"\"\"\n",
    "def get_login_n(html):\n",
    "    soup = BeautifulSoup(html, \"html.parser\")\n",
    "    n = soup.find('input', attrs={'name': 'n'})\n",
    "    if not n:\n",
    "        print('could not find `n` on login form')\n",
    "    return n.get('value').strip()\n",
    "\n",
    "\"\"\"\n",
    "email = \"chshreeya@gmail.com\"  # login email\n",
    "password = \"\"  # login password\n",
    "\n",
    "payload = {\n",
    "    'email': email,\n",
    "    'password': password,\n",
    "}\n",
    "\n",
    "session = requests.Session()\n",
    "session.headers = {'User-Agent': ('Mozilla/5.0 (Macintosh; Intel Mac OS X 10_15_7) '\n",
    "    'AppleWebKit/537.36 (KHTML, like Gecko) Chrome/85.0.4183.121 Safari/537.36')}\n",
    "response = session.get(LOGIN_URL)\n",
    "\n",
    "\n",
    "payload.update({\n",
    "    'appActionToken': get_input(response.text, 'appActionToken'),\n",
    "    'appAction': get_input(response.text, 'appAction'),\n",
    "    'siteState': get_input(response.text, 'siteState'),\n",
    "    'openid.return_to': get_input(response.text, 'openid.return_to'),\n",
    "    'prevRID': get_input(response.text, 'prevRID'),\n",
    "    'workflowState': get_input(response.text, 'workflowState'),\n",
    "    'create': get_input(response.text, 'create'),\n",
    "    #'metadata1': get_input(response.text, 'metadata1'),\n",
    "    #'aaToken': get_input(response.text, 'aaToken'),\n",
    "    'encryptedPasswordExpected': 'Book'\n",
    "})\n",
    "\n",
    "print(f\"attempting to log in as {email}\")\n",
    "p = session.post(LOGIN_URL, data=payload)  # perform login"
   ]
  },
  {
   "cell_type": "code",
   "execution_count": 11,
   "id": "27f596ba",
   "metadata": {},
   "outputs": [
    {
     "ename": "NoSuchWindowException",
     "evalue": "Message: no such window: target window already closed\nfrom unknown error: web view not found\n  (Session info: chrome=123.0.6312.107)\nStacktrace:\n0   chromedriver                        0x0000000102f544a4 chromedriver + 4326564\n1   chromedriver                        0x0000000102f4c96c chromedriver + 4295020\n2   chromedriver                        0x0000000102b78088 chromedriver + 278664\n3   chromedriver                        0x0000000102b53270 chromedriver + 127600\n4   chromedriver                        0x0000000102bdf9ac chromedriver + 702892\n5   chromedriver                        0x0000000102bf2c0c chromedriver + 781324\n6   chromedriver                        0x0000000102baf4e4 chromedriver + 505060\n7   chromedriver                        0x0000000102baff5c chromedriver + 507740\n8   chromedriver                        0x0000000102f17a40 chromedriver + 4078144\n9   chromedriver                        0x0000000102f1c7f8 chromedriver + 4098040\n10  chromedriver                        0x0000000102efe5e4 chromedriver + 3974628\n11  chromedriver                        0x0000000102f1d110 chromedriver + 4100368\n12  chromedriver                        0x0000000102eefbd4 chromedriver + 3914708\n13  chromedriver                        0x0000000102f3d718 chromedriver + 4232984\n14  chromedriver                        0x0000000102f3d894 chromedriver + 4233364\n15  chromedriver                        0x0000000102f4c5e0 chromedriver + 4294112\n16  libsystem_pthread.dylib             0x0000000184fb2034 _pthread_start + 136\n17  libsystem_pthread.dylib             0x0000000184face3c thread_start + 8\n",
     "output_type": "error",
     "traceback": [
      "\u001b[0;31m---------------------------------------------------------------------------\u001b[0m",
      "\u001b[0;31mNoSuchWindowException\u001b[0m                     Traceback (most recent call last)",
      "Cell \u001b[0;32mIn[11], line 19\u001b[0m\n\u001b[1;32m     17\u001b[0m driver\u001b[38;5;241m.\u001b[39mget(\u001b[38;5;124m\"\u001b[39m\u001b[38;5;124mhttps://www.goodreads.com\u001b[39m\u001b[38;5;124m\"\u001b[39m)\n\u001b[1;32m     18\u001b[0m time\u001b[38;5;241m.\u001b[39msleep(\u001b[38;5;241m3\u001b[39m) \n\u001b[0;32m---> 19\u001b[0m \u001b[38;5;28;01mwhile\u001b[39;00m \u001b[38;5;124m\"\u001b[39m\u001b[38;5;124mhttps://www.goodreads.com/giveaway\u001b[39m\u001b[38;5;124m\"\u001b[39m \u001b[38;5;129;01mnot\u001b[39;00m \u001b[38;5;129;01min\u001b[39;00m \u001b[43mdriver\u001b[49m\u001b[38;5;241;43m.\u001b[39;49m\u001b[43mcurrent_url\u001b[49m:\n\u001b[1;32m     20\u001b[0m     driver\u001b[38;5;241m.\u001b[39mget(\u001b[38;5;124m\"\u001b[39m\u001b[38;5;124mhttps://www.goodreads.com/giveaway\u001b[39m\u001b[38;5;124m\"\u001b[39m)\n\u001b[1;32m     21\u001b[0m \u001b[38;5;66;03m#driver.find_element(by=By.CLASS_NAME, value=\"Button__container\").click()\u001b[39;00m\n",
      "File \u001b[0;32m~/Library/Python/3.9/lib/python/site-packages/selenium/webdriver/remote/webdriver.py:437\u001b[0m, in \u001b[0;36mWebDriver.current_url\u001b[0;34m(self)\u001b[0m\n\u001b[1;32m    428\u001b[0m \u001b[38;5;129m@property\u001b[39m\n\u001b[1;32m    429\u001b[0m \u001b[38;5;28;01mdef\u001b[39;00m \u001b[38;5;21mcurrent_url\u001b[39m(\u001b[38;5;28mself\u001b[39m) \u001b[38;5;241m-\u001b[39m\u001b[38;5;241m>\u001b[39m \u001b[38;5;28mstr\u001b[39m:\n\u001b[1;32m    430\u001b[0m     \u001b[38;5;124;03m\"\"\"Gets the URL of the current page.\u001b[39;00m\n\u001b[1;32m    431\u001b[0m \n\u001b[1;32m    432\u001b[0m \u001b[38;5;124;03m    :Usage:\u001b[39;00m\n\u001b[0;32m   (...)\u001b[0m\n\u001b[1;32m    435\u001b[0m \u001b[38;5;124;03m            driver.current_url\u001b[39;00m\n\u001b[1;32m    436\u001b[0m \u001b[38;5;124;03m    \"\"\"\u001b[39;00m\n\u001b[0;32m--> 437\u001b[0m     \u001b[38;5;28;01mreturn\u001b[39;00m \u001b[38;5;28;43mself\u001b[39;49m\u001b[38;5;241;43m.\u001b[39;49m\u001b[43mexecute\u001b[49m\u001b[43m(\u001b[49m\u001b[43mCommand\u001b[49m\u001b[38;5;241;43m.\u001b[39;49m\u001b[43mGET_CURRENT_URL\u001b[49m\u001b[43m)\u001b[49m[\u001b[38;5;124m\"\u001b[39m\u001b[38;5;124mvalue\u001b[39m\u001b[38;5;124m\"\u001b[39m]\n",
      "File \u001b[0;32m~/Library/Python/3.9/lib/python/site-packages/selenium/webdriver/remote/webdriver.py:347\u001b[0m, in \u001b[0;36mWebDriver.execute\u001b[0;34m(self, driver_command, params)\u001b[0m\n\u001b[1;32m    345\u001b[0m response \u001b[38;5;241m=\u001b[39m \u001b[38;5;28mself\u001b[39m\u001b[38;5;241m.\u001b[39mcommand_executor\u001b[38;5;241m.\u001b[39mexecute(driver_command, params)\n\u001b[1;32m    346\u001b[0m \u001b[38;5;28;01mif\u001b[39;00m response:\n\u001b[0;32m--> 347\u001b[0m     \u001b[38;5;28;43mself\u001b[39;49m\u001b[38;5;241;43m.\u001b[39;49m\u001b[43merror_handler\u001b[49m\u001b[38;5;241;43m.\u001b[39;49m\u001b[43mcheck_response\u001b[49m\u001b[43m(\u001b[49m\u001b[43mresponse\u001b[49m\u001b[43m)\u001b[49m\n\u001b[1;32m    348\u001b[0m     response[\u001b[38;5;124m\"\u001b[39m\u001b[38;5;124mvalue\u001b[39m\u001b[38;5;124m\"\u001b[39m] \u001b[38;5;241m=\u001b[39m \u001b[38;5;28mself\u001b[39m\u001b[38;5;241m.\u001b[39m_unwrap_value(response\u001b[38;5;241m.\u001b[39mget(\u001b[38;5;124m\"\u001b[39m\u001b[38;5;124mvalue\u001b[39m\u001b[38;5;124m\"\u001b[39m, \u001b[38;5;28;01mNone\u001b[39;00m))\n\u001b[1;32m    349\u001b[0m     \u001b[38;5;28;01mreturn\u001b[39;00m response\n",
      "File \u001b[0;32m~/Library/Python/3.9/lib/python/site-packages/selenium/webdriver/remote/errorhandler.py:229\u001b[0m, in \u001b[0;36mErrorHandler.check_response\u001b[0;34m(self, response)\u001b[0m\n\u001b[1;32m    227\u001b[0m         alert_text \u001b[38;5;241m=\u001b[39m value[\u001b[38;5;124m\"\u001b[39m\u001b[38;5;124malert\u001b[39m\u001b[38;5;124m\"\u001b[39m]\u001b[38;5;241m.\u001b[39mget(\u001b[38;5;124m\"\u001b[39m\u001b[38;5;124mtext\u001b[39m\u001b[38;5;124m\"\u001b[39m)\n\u001b[1;32m    228\u001b[0m     \u001b[38;5;28;01mraise\u001b[39;00m exception_class(message, screen, stacktrace, alert_text)  \u001b[38;5;66;03m# type: ignore[call-arg]  # mypy is not smart enough here\u001b[39;00m\n\u001b[0;32m--> 229\u001b[0m \u001b[38;5;28;01mraise\u001b[39;00m exception_class(message, screen, stacktrace)\n",
      "\u001b[0;31mNoSuchWindowException\u001b[0m: Message: no such window: target window already closed\nfrom unknown error: web view not found\n  (Session info: chrome=123.0.6312.107)\nStacktrace:\n0   chromedriver                        0x0000000102f544a4 chromedriver + 4326564\n1   chromedriver                        0x0000000102f4c96c chromedriver + 4295020\n2   chromedriver                        0x0000000102b78088 chromedriver + 278664\n3   chromedriver                        0x0000000102b53270 chromedriver + 127600\n4   chromedriver                        0x0000000102bdf9ac chromedriver + 702892\n5   chromedriver                        0x0000000102bf2c0c chromedriver + 781324\n6   chromedriver                        0x0000000102baf4e4 chromedriver + 505060\n7   chromedriver                        0x0000000102baff5c chromedriver + 507740\n8   chromedriver                        0x0000000102f17a40 chromedriver + 4078144\n9   chromedriver                        0x0000000102f1c7f8 chromedriver + 4098040\n10  chromedriver                        0x0000000102efe5e4 chromedriver + 3974628\n11  chromedriver                        0x0000000102f1d110 chromedriver + 4100368\n12  chromedriver                        0x0000000102eefbd4 chromedriver + 3914708\n13  chromedriver                        0x0000000102f3d718 chromedriver + 4232984\n14  chromedriver                        0x0000000102f3d894 chromedriver + 4233364\n15  chromedriver                        0x0000000102f4c5e0 chromedriver + 4294112\n16  libsystem_pthread.dylib             0x0000000184fb2034 _pthread_start + 136\n17  libsystem_pthread.dylib             0x0000000184face3c thread_start + 8\n"
     ]
    }
   ],
   "source": [
    "from selenium.webdriver.common.by import By\n",
    "from selenium import webdriver\n",
    "from selenium.webdriver.chrome.options import Options\n",
    "import time\n",
    "\n",
    "chrome_options = Options()\n",
    "chrome_options.add_argument(\"--incognito\")\n",
    "chrome_options.add_argument(\"--window-size=1920x1080\")\n",
    "\n",
    "driver = webdriver.Chrome()\n",
    "driver.delete_all_cookies()\n",
    "driver.get(\"https://www.goodreads.com/user/sign_in\")\n",
    "driver.find_element(by=By.CLASS_NAME, value=\"authPortalConnectButton\").click()\n",
    "driver.find_element(by=By.NAME, value=\"email\").send_keys(\"chshreeya@gmail.com\")\n",
    "driver.find_element(by=By.NAME, value=\"password\").send_keys(\"Books@1234\")\n",
    "driver.find_element(by=By.ID, value=\"signInSubmit\").click()\n",
    "driver.get(\"https://www.goodreads.com\")\n",
    "time.sleep(3) \n",
    "while \"https://www.goodreads.com/giveaway\" not in driver.current_url:\n",
    "    driver.get(\"https://www.goodreads.com/giveaway?sort=recently_listed&format=print\")\n",
    "#driver.find_element(by=By.CLASS_NAME, value=\"Button__container\").click()"
   ]
  },
  {
   "cell_type": "code",
   "execution_count": null,
   "id": "952e2b3f",
   "metadata": {},
   "outputs": [],
   "source": [
    "try:\n",
    "    login_form = driver.find_element(By.ID, 'loginForm')\n",
    "except:\n",
    "    print('reached end')"
   ]
  },
  {
   "cell_type": "markdown",
   "id": "3c3a69a7",
   "metadata": {},
   "source": [
    "**LOGIC**\n",
    "once on giveaway page, filter to print books"
   ]
  },
  {
   "cell_type": "code",
   "execution_count": null,
   "id": "da36bd5e",
   "metadata": {},
   "outputs": [],
   "source": [
    "class Giveaway:\n",
    "    def __init__(self, url):\n",
    "        self.url = url\n",
    "        "
   ]
  }
 ],
 "metadata": {
  "kernelspec": {
   "display_name": "Python 3 (ipykernel)",
   "language": "python",
   "name": "python3"
  },
  "language_info": {
   "codemirror_mode": {
    "name": "ipython",
    "version": 3
   },
   "file_extension": ".py",
   "mimetype": "text/x-python",
   "name": "python",
   "nbconvert_exporter": "python",
   "pygments_lexer": "ipython3",
   "version": "3.9.2"
  }
 },
 "nbformat": 4,
 "nbformat_minor": 5
}
