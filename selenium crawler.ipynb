{
 "cells": [
  {
   "cell_type": "code",
   "execution_count": null,
   "id": "d0129e33",
   "metadata": {
    "scrolled": true
   },
   "outputs": [],
   "source": [
    "from bs4 import BeautifulSoup\n",
    "import requests\n",
    "\n",
    "LOGIN_URL = 'https://www.goodreads.com/ap/signin?language=en_US&openid.assoc_handle=amzn_goodreads_web_na&openid.claimed_id=http%3A%2F%2Fspecs.openid.net%2Fauth%2F2.0%2Fidentifier_select&openid.identity=http%3A%2F%2Fspecs.openid.net%2Fauth%2F2.0%2Fidentifier_select&openid.mode=checkid_setup&openid.ns=http%3A%2F%2Fspecs.openid.net%2Fauth%2F2.0&openid.pape.max_auth_age=0&openid.return_to=https%3A%2F%2Fwww.goodreads.com%2Fap-handler%2Fsign-in&siteState=9d41b12ad9035ba77bca9d3914dea2ca'\n",
    "\n",
    "def get_input(html, name):\n",
    "    soup = BeautifulSoup(html, \"html.parser\")\n",
    "    token = soup.find('input', attrs={'name': name})\n",
    "    if not token:\n",
    "        print('could not find `' + name + '` on login form')\n",
    "        return\n",
    "    return token.get('value').strip()\n",
    "\n",
    "\"\"\"\"\n",
    "def get_login_n(html):\n",
    "    soup = BeautifulSoup(html, \"html.parser\")\n",
    "    n = soup.find('input', attrs={'name': 'n'})\n",
    "    if not n:\n",
    "        print('could not find `n` on login form')\n",
    "    return n.get('value').strip()\n",
    "\n",
    "\"\"\"\n",
    "email = \"chshreeya@gmail.com\"  # login email\n",
    "password = \"\"  # login password\n",
    "\n",
    "payload = {\n",
    "    'email': email,\n",
    "    'password': password,\n",
    "}\n",
    "\n",
    "session = requests.Session()\n",
    "session.headers = {'User-Agent': ('Mozilla/5.0 (Macintosh; Intel Mac OS X 10_15_7) '\n",
    "    'AppleWebKit/537.36 (KHTML, like Gecko) Chrome/85.0.4183.121 Safari/537.36')}\n",
    "response = session.get(LOGIN_URL)\n",
    "\n",
    "\n",
    "payload.update({\n",
    "    'appActionToken': get_input(response.text, 'appActionToken'),\n",
    "    'appAction': get_input(response.text, 'appAction'),\n",
    "    'siteState': get_input(response.text, 'siteState'),\n",
    "    'openid.return_to': get_input(response.text, 'openid.return_to'),\n",
    "    'prevRID': get_input(response.text, 'prevRID'),\n",
    "    'workflowState': get_input(response.text, 'workflowState'),\n",
    "    'create': get_input(response.text, 'create'),\n",
    "    #'metadata1': get_input(response.text, 'metadata1'),\n",
    "    #'aaToken': get_input(response.text, 'aaToken'),\n",
    "    'encryptedPasswordExpected': 'Book'\n",
    "})\n",
    "\n",
    "print(f\"attempting to log in as {email}\")\n",
    "p = session.post(LOGIN_URL, data=payload)  # perform login"
   ]
  },
  {
   "cell_type": "code",
   "execution_count": 16,
   "id": "27f596ba",
   "metadata": {},
   "outputs": [],
   "source": [
    "from selenium.webdriver.common.by import By\n",
    "from selenium import webdriver\n",
    "from selenium.webdriver.chrome.options import Options\n",
    "import time\n",
    "\n",
    "driver = webdriver.Chrome()\n",
    "driver.delete_all_cookies()\n",
    "driver.get(\"https://www.goodreads.com/user/sign_in\")\n",
    "driver.find_element(by=By.CLASS_NAME, value=\"authPortalConnectButton\").click()\n",
    "driver.find_element(by=By.NAME, value=\"email\").send_keys(\"chshreeya@gmail.com\")\n",
    "driver.find_element(by=By.NAME, value=\"password\").send_keys(\"Books@1234\")\n",
    "driver.find_element(by=By.ID, value=\"signInSubmit\").click()\n",
    "time.sleep(3) \n",
    "#while \"https://www.goodreads.com/giveaway\" not in driver.current_url:\n",
    "#    driver.get(\"https://www.goodreads.com/giveaway?sort=recently_listed&format=print\")\n",
    "#driver.find_element(By.CLASS_NAME, \"GiveawayMetadata__enterGiveawayButton\").click()"
   ]
  },
  {
   "cell_type": "code",
   "execution_count": 55,
   "id": "952e2b3f",
   "metadata": {},
   "outputs": [
    {
     "name": "stdout",
     "output_type": "stream",
     "text": [
      "https://www.goodreads.com/ap/signin?language=en_US&openid.assoc_handle=amzn_goodreads_web_na&openid.claimed_id=http%3A%2F%2Fspecs.openid.net%2Fauth%2F2.0%2Fidentifier_select&openid.identity=http%3A%2F%2Fspecs.openid.net%2Fauth%2F2.0%2Fidentifier_select&openid.mode=checkid_setup&openid.ns=http%3A%2F%2Fspecs.openid.net%2Fauth%2F2.0&openid.pape.max_auth_age=0&openid.return_to=https%3A%2F%2Fwww.goodreads.com%2Fap-handler%2Fsign-in&siteState=2b8c26d32faaef9ea64ce3da631da1e8\n",
      "https://www.goodreads.com/blog/show/2749?ref=celebbookclub24_eb\n"
     ]
    }
   ],
   "source": [
    "from selenium.webdriver.common.by import By\n",
    "from selenium import webdriver\n",
    "from selenium.webdriver.chrome.options import Options\n",
    "import time\n",
    "\n",
    "driver = webdriver.Chrome()\n",
    "driver.delete_all_cookies()\n",
    "\n",
    "signed_in = False\n",
    "while not signed_in:\n",
    "    driver.get(\"https://www.goodreads.com/user/sign_in\")\n",
    "    driver.find_element(by=By.CLASS_NAME, value=\"authPortalConnectButton\").click()\n",
    "    driver.find_element(by=By.NAME, value=\"email\").send_keys(\"chshreeya@gmail.com\")\n",
    "    driver.find_element(by=By.NAME, value=\"password\").send_keys(\"Books@1234\")\n",
    "    driver.find_element(by=By.ID, value=\"signInSubmit\").click()\n",
    "    print(driver.current_url)\n",
    "    if driver.current_url == \"https://www.goodreads.com/\":\n",
    "        signed_in = True\n",
    "    time.sleep(3)\n",
    "while \"https://www.goodreads.com/giveaway\" not in driver.current_url:\n",
    "    driver.get(\"https://www.goodreads.com/giveaway?sort=recently_listed&format=print\")\n",
    "el = driver.find_elements(By.CSS_SELECTOR, \"a\")\n",
    "print(el[0].get_attribute(\"href\"))"
   ]
  },
  {
   "cell_type": "markdown",
   "id": "3c3a69a7",
   "metadata": {},
   "source": [
    "**LOGIC**\n",
    "once on giveaway page, filter to print books"
   ]
  },
  {
   "cell_type": "code",
   "execution_count": 53,
   "id": "da36bd5e",
   "metadata": {},
   "outputs": [
    {
     "data": {
      "text/plain": [
       "'https://www.goodreads.com/giveaway/enter_choose_address/387765-learn-your-lesson?ref=giv_enter_cta'"
      ]
     },
     "execution_count": 53,
     "metadata": {},
     "output_type": "execute_result"
    }
   ],
   "source": [
    "el[35].get_attribute(\"href\")"
   ]
  },
  {
   "cell_type": "code",
   "execution_count": 58,
   "id": "4bf57366",
   "metadata": {},
   "outputs": [
    {
     "data": {
      "text/plain": [
       "<selenium.webdriver.remote.webelement.WebElement (session=\"b66058637449237a5a5d23a167e980bf\", element=\"f.2D07F3C9F1DBF356D33FE2FFAECAC22C.d.E2B74EFCCC5C7F60C5059ECF18D497E5.e.200\")>"
      ]
     },
     "execution_count": 58,
     "metadata": {},
     "output_type": "execute_result"
    }
   ],
   "source": [
    "driver.find_element(By.CSS_SELECTOR, \"article.BookListItem\")"
   ]
  },
  {
   "cell_type": "code",
   "execution_count": null,
   "id": "78072faa",
   "metadata": {},
   "outputs": [],
   "source": []
  }
 ],
 "metadata": {
  "kernelspec": {
   "display_name": "Python 3 (ipykernel)",
   "language": "python",
   "name": "python3"
  },
  "language_info": {
   "codemirror_mode": {
    "name": "ipython",
    "version": 3
   },
   "file_extension": ".py",
   "mimetype": "text/x-python",
   "name": "python",
   "nbconvert_exporter": "python",
   "pygments_lexer": "ipython3",
   "version": "3.9.2"
  }
 },
 "nbformat": 4,
 "nbformat_minor": 5
}
