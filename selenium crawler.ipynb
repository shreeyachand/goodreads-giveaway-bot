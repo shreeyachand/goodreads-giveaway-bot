{
 "cells": [
  {
   "cell_type": "code",
   "execution_count": 30,
   "id": "952e2b3f",
   "metadata": {},
   "outputs": [],
   "source": [
    "from selenium.webdriver.common.by import By\n",
    "from selenium import webdriver\n",
    "from selenium.webdriver.chrome.options import Options\n",
    "import time\n",
    "\n",
    "driver = webdriver.Chrome()\n",
    "driver.delete_all_cookies()\n",
    "\n",
    "signed_in = False\n",
    "while not signed_in:\n",
    "    driver.get(\"https://www.goodreads.com/user/sign_in\")\n",
    "    driver.find_element(by=By.CLASS_NAME, value=\"authPortalConnectButton\").click()\n",
    "    driver.find_element(by=By.NAME, value=\"email\").send_keys(\"chshreeya@gmail.com\")\n",
    "    driver.find_element(by=By.NAME, value=\"password\").send_keys(\"Books@1234\")\n",
    "    driver.find_element(by=By.ID, value=\"signInSubmit\").click()\n",
    "    if driver.current_url == \"https://www.goodreads.com/\":\n",
    "        signed_in = True\n",
    "    time.sleep(3)\n",
    "while \"https://www.goodreads.com/giveaway\" not in driver.current_url:\n",
    "    driver.get(\"https://www.goodreads.com/giveaway?sort=recently_listed&format=print\")\n",
    "el = driver.find_elements(By.CSS_SELECTOR, \"a\")"
   ]
  },
  {
   "cell_type": "code",
   "execution_count": 31,
   "id": "39c93375",
   "metadata": {},
   "outputs": [],
   "source": [
    "driver.get(\"https://www.goodreads.com/giveaway?sort=recently_listed&format=print\")"
   ]
  },
  {
   "cell_type": "markdown",
   "id": "3c3a69a7",
   "metadata": {},
   "source": [
    "**LOGIC**\n",
    "once on giveaway page, filter to print books"
   ]
  },
  {
   "cell_type": "code",
   "execution_count": 15,
   "id": "4bf57366",
   "metadata": {},
   "outputs": [],
   "source": [
    "titles = list(map(lambda x: x.text, driver.find_elements(By.XPATH, \"//article/div/div[@class='BookListItem__title']/h3/strong/a\")))\n",
    "authors = list(map(lambda x: x.text, driver.find_elements(By.XPATH, \"//article/div/div/h3/div/span/a/span[@class='ContributorLink__name']\")))\n",
    "descr = list(map(lambda x: x.text, driver.find_elements(By.XPATH, \"//article/div/div/div/span[@class='Formatted']\")))\n",
    "links = list(map(lambda x: 'https://www.goodreads.com/giveaway/enter_print_giveaway/' + x.get_attribute(\"href\").split('enter_choose_address/')[1].replace('?ref=giv_enter_cta','?address=4645032'), driver.find_elements(By.XPATH, \"//div[@class='GiveawayMetadata__enterGiveawayButton']/a\")))"
   ]
  },
  {
   "cell_type": "code",
   "execution_count": 18,
   "id": "b27ded8d",
   "metadata": {},
   "outputs": [
    {
     "data": {
      "text/plain": [
       "'May 7'"
      ]
     },
     "execution_count": 18,
     "metadata": {},
     "output_type": "execute_result"
    }
   ],
   "source": [
    "import datetime\n",
    "now = datetime.datetime.now()\n",
    "today = now.strftime(\"%B\") + \" \" + str(now.day)\n",
    "today"
   ]
  },
  {
   "cell_type": "code",
   "execution_count": 27,
   "id": "05171525",
   "metadata": {},
   "outputs": [
    {
     "data": {
      "text/plain": [
       "['May 7',\n",
       " 'May 7',\n",
       " 'May 7',\n",
       " 'May 7',\n",
       " 'May 7',\n",
       " 'May 7',\n",
       " 'May 7',\n",
       " 'May 7',\n",
       " 'May 7',\n",
       " 'May 7',\n",
       " 'May 7',\n",
       " 'May 7',\n",
       " 'May 7',\n",
       " 'May 7',\n",
       " 'May 7']"
      ]
     },
     "execution_count": 27,
     "metadata": {},
     "output_type": "execute_result"
    }
   ],
   "source": [
    "dates = list(map(lambda x: x.text.split(\" - \")[0], driver.find_elements(By.XPATH, \"//article/div/div/div[@class='GiveawayMetadata__entryData']\")))\n",
    "dates"
   ]
  },
  {
   "cell_type": "code",
   "execution_count": 35,
   "id": "267c0e7b",
   "metadata": {},
   "outputs": [],
   "source": [
    "driver.find_element(By.XPATH, \"//div[@class='Divider Divider--contents Divider--largeMargin']/div/button\").click()"
   ]
  },
  {
   "cell_type": "code",
   "execution_count": 38,
   "id": "72967736",
   "metadata": {},
   "outputs": [],
   "source": [
    "dates = list(map(lambda x: x.text.split(\" - \")[0], driver.find_elements(By.XPATH, \"//article/div/div/div[@class='GiveawayMetadata__entryData']\")))\n",
    "while dates[-1] == today:\n",
    "    driver.find_element(By.XPATH, \"//div[@class='Divider Divider--contents Divider--largeMargin']/div/button\").click()\n",
    "    dates = list(map(lambda x: x.text, driver.find_elements(By.XPATH, \"//article/div/div/div/div/div/div/div[@class='GiveawayMetadata__entryData']\")))"
   ]
  },
  {
   "cell_type": "code",
   "execution_count": 40,
   "id": "a8b37431",
   "metadata": {},
   "outputs": [],
   "source": [
    "titles = list(map(lambda x: x.text, driver.find_elements(By.XPATH, \"//article/div/div[@class='BookListItem__title']/h3/strong/a\")))\n",
    "authors = list(map(lambda x: x.text, driver.find_elements(By.XPATH, \"//article/div/div/h3/div/span/a/span[@class='ContributorLink__name']\")))\n",
    "descr = list(map(lambda x: x.text, driver.find_elements(By.XPATH, \"//article/div/div/div/span[@class='Formatted']\")))\n",
    "links = list(map(lambda x: 'https://www.goodreads.com/giveaway/enter_print_giveaway/' + x.get_attribute(\"href\").split('enter_choose_address/')[1].replace('?ref=giv_enter_cta','?address=4645032'), driver.find_elements(By.XPATH, \"//div[@class='GiveawayMetadata__enterGiveawayButton']/a\")))"
   ]
  },
  {
   "cell_type": "code",
   "execution_count": 50,
   "id": "6aa3ec34",
   "metadata": {},
   "outputs": [
    {
     "name": "stdout",
     "output_type": "stream",
     "text": [
      "45 new giveaways for you\n"
     ]
    }
   ],
   "source": [
    "print(str(len(titles)) + \" new giveaways for you\")"
   ]
  },
  {
   "cell_type": "code",
   "execution_count": 54,
   "id": "a7b84d1a",
   "metadata": {
    "scrolled": true
   },
   "outputs": [
    {
     "name": "stdout",
     "output_type": "stream",
     "text": [
      "Lost Seeds: The Beginning (Lost Seeds, #1) by Teresa Mosley Sebastian\n",
      "Description: A novel chronicling the strained relationship between two brothers born into the remnants of their parents’ former enslavement. One brother seems to overcome, while the other descends further into adversity. What happens when they are forced to face each other?\n",
      "\n",
      "Lost Seeds is the story of two brothers, Dublin and Timothy Brisco, born into poverty at the turn of the twentieth century to formerly enslaved parents. From birth, they witness firsthand the atrocities their parents had to endure and themselves experience the continued struggles of being Black in the South. Encounters with physical abuse, mental illness, and racism define the brothers’ lives, and despite their best efforts to survive, the seeds of slavery’s wickedness inevitably spawn and lead the two down separate paths. Dublin attempts to overcome his tragic past and hopes to elevate his place in life by escaping oppression and adapting to segregated societal life, while Timothy openly displays his wounds, attempts to reject his Black identity, and descends into a fog of mental illness. The two brothers never discuss their journeys, nor the lifetime of insecurity and violence they experienced, ultimately creating an impassable chasm in their relationship.\n",
      "\n",
      "Eventually, at the request of their mother, Dublin reluctantly permits Timothy to live on his family’s land in a one-room windowless shack. Although they are once again united on the same property, their feelings of indifference and the distance between the two persist.\n",
      "\n",
      "Will their relationship forever be lost to the traumas of their past, or will they be able to come together and be each other’s strength in the face of the cruelties of their world? Because no matter how much time or distance passes, the seeds of brotherhood never die.\n",
      "\n",
      "Do you want to enter this giveaway?n\n",
      "\u001b[H\u001b[2JHumans, Vol. 2: Mjomba and the Evil Ghost. The Untold Story of Adam and Eve and their Descendants by Joseph M Luguya\n",
      "Description: This is the 3rd Revised Edition of Volume Two (“Mjomba and the Evil Ghost”) of Joseph Luguya's thrilling three-volume blockbuster \"Humans, The Untold Story of Adam and Eve and their Descendants”. A virtuous and rather naïve member of St. Augustine’s seminary brotherhood has a class assignment to turn in a thesis on “Original Virtue”. But he has a runaway imagination, and easily gets snared into serving in a very strange role, namely the role of scribe to none other than Satan. Misled by the practice in Rome that has one of the cardinals (the Promoter of the Faith) play the role of the so-called Advocatus Diaboli (Devil's Advocate) in order to argue against the canonization of the candidate for sainthood, he falls for the temptation to try and use the devil as his mouthpiece for expounding on the doctrines of the church. He imagines that if he should succeed in doing that, he will effectively make Lucifer, who is also known as Beelzebub, work for the salvation of souls instead of their damnation! And, incredibly, the seminarian appears to succeed in tricking the Evil One into working against his own interests and helping him craft a thesis that looks like a definite winner! Satan starts by bragging about how he derailed the father and mother of mankind; and it soon starts to dawn on the student that it is the Evil One who is using him instead of the other way round! Using the free platform provided by the unwitting seminarian, the devil indicates gleefully that he is in total control, and that his evil plan to consign everyone, Catholic and non-Catholic alike, the luckless student himself included, to hell is on track! And that former “Angel of Light” and also “Father of Lies” succeeds in ensuring that humans are on the road to perdition by pulling off the most unlikely hat trick of all, namely shining as much light on truth as possible so that humans (who are already inclined to sin) don’t have any excuse at all come Judgement Day - or so he leads the seminarian to believe! Predictably the devil also brags that he is more knowledgeable in matters of theology than all the doctors of the church combined! And, as he goes about shining light on the “Truth”, the devil seems quite happy to use this opportunity to show the world that he does not just profess the Catholic faith, but he is actually more Catholic than the Catholics themselves! It becomes evident soon enough that \"Old Scratch\" harbors the most God-awful bitterness towards humans. In an expansive, record shattering homily on the battle between the forces of Good and the forces of Evil, Satan paints the picture of descendants of Adam and Eve who are inclined to sin as a consequence of the fall from grace of the first man and the first woman, and won’t give a second thought about turning the house of the Deliverer’s Father that, according to the Catechism, encompasses the “Sancta Ecclesia” and the “people of God” (CCC 781-797), into a place of commerce! But the devil knows what he is up against, namely the Deliverer and those saints who just go marching into the divine banquet hall for the Marriage Feast of the Lamb (exactly as Louis Armstrong piped), and along the way frustrate his designs on the Sancta Ecclesia and its redeeming work. For his part, the student starts to see limitless possibilities of benefiting from the scheme before long; and he dreams about riding on the cocktails of Diabolos and achieving fortune and fame by converting the “winning” thesis into a mega-selling blockbuster! While the devil is quite happy with that mutual arrangement and wants to see the student succeed, as disseminating “Truth” in whichever way now serves his purposes very well from one angle, from a different angle, because as the Father of Lies he is being coerced to act against his nature and sees it as punishment, all that now puts the student’s eternal salvation in the greatest peril because of his central role in it.\n",
      "\n",
      "Do you want to enter this giveaway?n\n",
      "\u001b[H\u001b[2JBefore I Loved You by Ashley Elizabeth\n",
      "Description: What if everyone you’ve ever loved has always let you go?\n",
      "Living most of my life alone, I’ve learned to rely on one person.\n",
      "And one person only.\n",
      "Me.\n",
      "But after one night in a bar,\n",
      "seeking a distraction from a tall, dark, and handsome stranger,\n",
      "I ended up with more than I bargained for.\n",
      "Two vivid pink lines on a white plastic stick.\n",
      "And after finally finding the nameless man who has invaded my dreams for weeks,\n",
      "I feel ready for this new chapter of my life to begin.\n",
      "Until the monster from my nightmares appears with a vengeance,\n",
      "keeping me from the one person in the world\n",
      "who would never let me go.\n"
     ]
    },
    {
     "ename": "KeyboardInterrupt",
     "evalue": "Interrupted by user",
     "output_type": "error",
     "traceback": [
      "\u001b[0;31m---------------------------------------------------------------------------\u001b[0m",
      "\u001b[0;31mKeyboardInterrupt\u001b[0m                         Traceback (most recent call last)",
      "Cell \u001b[0;32mIn[54], line 4\u001b[0m\n\u001b[1;32m      2\u001b[0m \u001b[38;5;28mprint\u001b[39m(titles[i] \u001b[38;5;241m+\u001b[39m \u001b[38;5;124m'\u001b[39m\u001b[38;5;124m by \u001b[39m\u001b[38;5;124m'\u001b[39m \u001b[38;5;241m+\u001b[39m authors[i])\n\u001b[1;32m      3\u001b[0m \u001b[38;5;28mprint\u001b[39m(\u001b[38;5;124m'\u001b[39m\u001b[38;5;124mDescription: \u001b[39m\u001b[38;5;124m'\u001b[39m \u001b[38;5;241m+\u001b[39m descr[i])\n\u001b[0;32m----> 4\u001b[0m ans \u001b[38;5;241m=\u001b[39m \u001b[38;5;28;43minput\u001b[39;49m\u001b[43m(\u001b[49m\u001b[38;5;124;43m'\u001b[39;49m\u001b[38;5;130;43;01m\\n\u001b[39;49;00m\u001b[38;5;124;43mDo you want to enter this giveaway?\u001b[39;49m\u001b[38;5;124;43m'\u001b[39;49m\u001b[43m)\u001b[49m\n\u001b[1;32m      5\u001b[0m \u001b[38;5;28;01mif\u001b[39;00m ans \u001b[38;5;241m==\u001b[39m \u001b[38;5;124m'\u001b[39m\u001b[38;5;124my\u001b[39m\u001b[38;5;124m'\u001b[39m:\n\u001b[1;32m      6\u001b[0m     driver\u001b[38;5;241m.\u001b[39mget(links[i])\n",
      "File \u001b[0;32m/Library/Frameworks/Python.framework/Versions/3.9/lib/python3.9/site-packages/ipykernel/kernelbase.py:981\u001b[0m, in \u001b[0;36mKernel.raw_input\u001b[0;34m(self, prompt)\u001b[0m\n\u001b[1;32m    977\u001b[0m \u001b[38;5;28;01mif\u001b[39;00m \u001b[38;5;129;01mnot\u001b[39;00m \u001b[38;5;28mself\u001b[39m\u001b[38;5;241m.\u001b[39m_allow_stdin:\n\u001b[1;32m    978\u001b[0m     \u001b[38;5;28;01mraise\u001b[39;00m StdinNotImplementedError(\n\u001b[1;32m    979\u001b[0m         \u001b[38;5;124m\"\u001b[39m\u001b[38;5;124mraw_input was called, but this frontend does not support input requests.\u001b[39m\u001b[38;5;124m\"\u001b[39m\n\u001b[1;32m    980\u001b[0m     )\n\u001b[0;32m--> 981\u001b[0m \u001b[38;5;28;01mreturn\u001b[39;00m \u001b[38;5;28;43mself\u001b[39;49m\u001b[38;5;241;43m.\u001b[39;49m\u001b[43m_input_request\u001b[49m\u001b[43m(\u001b[49m\n\u001b[1;32m    982\u001b[0m \u001b[43m    \u001b[49m\u001b[38;5;28;43mstr\u001b[39;49m\u001b[43m(\u001b[49m\u001b[43mprompt\u001b[49m\u001b[43m)\u001b[49m\u001b[43m,\u001b[49m\n\u001b[1;32m    983\u001b[0m \u001b[43m    \u001b[49m\u001b[38;5;28;43mself\u001b[39;49m\u001b[38;5;241;43m.\u001b[39;49m\u001b[43m_parent_ident\u001b[49m\u001b[43m[\u001b[49m\u001b[38;5;124;43m\"\u001b[39;49m\u001b[38;5;124;43mshell\u001b[39;49m\u001b[38;5;124;43m\"\u001b[39;49m\u001b[43m]\u001b[49m\u001b[43m,\u001b[49m\n\u001b[1;32m    984\u001b[0m \u001b[43m    \u001b[49m\u001b[38;5;28;43mself\u001b[39;49m\u001b[38;5;241;43m.\u001b[39;49m\u001b[43mget_parent\u001b[49m\u001b[43m(\u001b[49m\u001b[38;5;124;43m\"\u001b[39;49m\u001b[38;5;124;43mshell\u001b[39;49m\u001b[38;5;124;43m\"\u001b[39;49m\u001b[43m)\u001b[49m\u001b[43m,\u001b[49m\n\u001b[1;32m    985\u001b[0m \u001b[43m    \u001b[49m\u001b[43mpassword\u001b[49m\u001b[38;5;241;43m=\u001b[39;49m\u001b[38;5;28;43;01mFalse\u001b[39;49;00m\u001b[43m,\u001b[49m\n\u001b[1;32m    986\u001b[0m \u001b[43m\u001b[49m\u001b[43m)\u001b[49m\n",
      "File \u001b[0;32m/Library/Frameworks/Python.framework/Versions/3.9/lib/python3.9/site-packages/ipykernel/kernelbase.py:1026\u001b[0m, in \u001b[0;36mKernel._input_request\u001b[0;34m(self, prompt, ident, parent, password)\u001b[0m\n\u001b[1;32m   1023\u001b[0m             \u001b[38;5;28;01mbreak\u001b[39;00m\n\u001b[1;32m   1024\u001b[0m \u001b[38;5;28;01mexcept\u001b[39;00m \u001b[38;5;167;01mKeyboardInterrupt\u001b[39;00m:\n\u001b[1;32m   1025\u001b[0m     \u001b[38;5;66;03m# re-raise KeyboardInterrupt, to truncate traceback\u001b[39;00m\n\u001b[0;32m-> 1026\u001b[0m     \u001b[38;5;28;01mraise\u001b[39;00m \u001b[38;5;167;01mKeyboardInterrupt\u001b[39;00m(\u001b[38;5;124m\"\u001b[39m\u001b[38;5;124mInterrupted by user\u001b[39m\u001b[38;5;124m\"\u001b[39m) \u001b[38;5;28;01mfrom\u001b[39;00m \u001b[38;5;28mNone\u001b[39m\n\u001b[1;32m   1027\u001b[0m \u001b[38;5;28;01mexcept\u001b[39;00m \u001b[38;5;167;01mException\u001b[39;00m:\n\u001b[1;32m   1028\u001b[0m     \u001b[38;5;28mself\u001b[39m\u001b[38;5;241m.\u001b[39mlog\u001b[38;5;241m.\u001b[39mwarning(\u001b[38;5;124m\"\u001b[39m\u001b[38;5;124mInvalid Message:\u001b[39m\u001b[38;5;124m\"\u001b[39m, exc_info\u001b[38;5;241m=\u001b[39m\u001b[38;5;28;01mTrue\u001b[39;00m)\n",
      "\u001b[0;31mKeyboardInterrupt\u001b[0m: Interrupted by user"
     ]
    }
   ],
   "source": [
    "for i in range(len(titles)):\n",
    "    print(titles[i] + ' by ' + authors[i])\n",
    "    print('Description: ' + descr[i])\n",
    "    ans = input('\\nDo you want to enter this giveaway?')\n",
    "    if ans == 'y':\n",
    "        driver.get(links[i])\n",
    "        try:\n",
    "            driver.find_element(by=By.NAME, value=\"entry_terms\").click()\n",
    "            driver.find_element(by=By.NAME, value=\"commit\").click()\n",
    "            print('entered!!')\n",
    "        except:\n",
    "            print('cant enter for some reason')\n",
    "    print(\"\\033[H\\033[2J\\n\", end=\"\")"
   ]
  },
  {
   "cell_type": "code",
   "execution_count": null,
   "id": "3c5d71b1",
   "metadata": {},
   "outputs": [],
   "source": []
  }
 ],
 "metadata": {
  "kernelspec": {
   "display_name": "Python 3 (ipykernel)",
   "language": "python",
   "name": "python3"
  },
  "language_info": {
   "codemirror_mode": {
    "name": "ipython",
    "version": 3
   },
   "file_extension": ".py",
   "mimetype": "text/x-python",
   "name": "python",
   "nbconvert_exporter": "python",
   "pygments_lexer": "ipython3",
   "version": "3.9.2"
  }
 },
 "nbformat": 4,
 "nbformat_minor": 5
}
