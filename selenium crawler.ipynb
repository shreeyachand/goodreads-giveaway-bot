{
 "cells": [
  {
   "cell_type": "code",
   "execution_count": 27,
   "id": "952e2b3f",
   "metadata": {},
   "outputs": [
    {
     "name": "stdout",
     "output_type": "stream",
     "text": [
      "https://www.goodreads.com/\n",
      "https://www.goodreads.com/blog/show/2749?ref=celebbookclub24_eb\n"
     ]
    }
   ],
   "source": [
    "from selenium.webdriver.common.by import By\n",
    "from selenium import webdriver\n",
    "from selenium.webdriver.chrome.options import Options\n",
    "import time\n",
    "\n",
    "driver = webdriver.Chrome()\n",
    "driver.delete_all_cookies()\n",
    "\n",
    "signed_in = False\n",
    "while not signed_in:\n",
    "    driver.get(\"https://www.goodreads.com/user/sign_in\")\n",
    "    driver.find_element(by=By.CLASS_NAME, value=\"authPortalConnectButton\").click()\n",
    "    driver.find_element(by=By.NAME, value=\"email\").send_keys(\"chshreeya@gmail.com\")\n",
    "    driver.find_element(by=By.NAME, value=\"password\").send_keys(\"Books@1234\")\n",
    "    driver.find_element(by=By.ID, value=\"signInSubmit\").click()\n",
    "    print(driver.current_url)\n",
    "    if driver.current_url == \"https://www.goodreads.com/\":\n",
    "        signed_in = True\n",
    "    time.sleep(3)\n",
    "while \"https://www.goodreads.com/giveaway\" not in driver.current_url:\n",
    "    driver.get(\"https://www.goodreads.com/giveaway?sort=recently_listed&format=print\")\n",
    "el = driver.find_elements(By.CSS_SELECTOR, \"a\")\n",
    "print(el[0].get_attribute(\"href\"))"
   ]
  },
  {
   "cell_type": "code",
   "execution_count": 36,
   "id": "39c93375",
   "metadata": {},
   "outputs": [],
   "source": [
    "driver.get(\"https://www.goodreads.com/giveaway?sort=recently_listed&format=print\")"
   ]
  },
  {
   "cell_type": "markdown",
   "id": "3c3a69a7",
   "metadata": {},
   "source": [
    "**LOGIC**\n",
    "once on giveaway page, filter to print books"
   ]
  },
  {
   "cell_type": "code",
   "execution_count": 53,
   "id": "da36bd5e",
   "metadata": {},
   "outputs": [
    {
     "data": {
      "text/plain": [
       "'https://www.goodreads.com/giveaway/enter_choose_address/387765-learn-your-lesson?ref=giv_enter_cta'"
      ]
     },
     "execution_count": 53,
     "metadata": {},
     "output_type": "execute_result"
    }
   ],
   "source": [
    "el[35].get_attribute(\"href\")"
   ]
  },
  {
   "cell_type": "code",
   "execution_count": 52,
   "id": "4bf57366",
   "metadata": {},
   "outputs": [],
   "source": [
    "titles = driver.find_elements(By.XPATH, \"//article/div/div[@class='BookListItem__title']/h3/strong/a\")\n",
    "authors = driver.find_elements(By.XPATH, \"//article/div/div/h3/div/span/a/span[@class='ContributorLink__name']\")\n",
    "descr = driver.find_elements(By.XPATH, \"//article/div/div/div/span[@class='Formatted']\")"
   ]
  },
  {
   "cell_type": "code",
   "execution_count": 53,
   "id": "d06428f8",
   "metadata": {},
   "outputs": [
    {
     "data": {
      "text/plain": [
       "\"Bluebeard's Castle\""
      ]
     },
     "execution_count": 53,
     "metadata": {},
     "output_type": "execute_result"
    }
   ],
   "source": [
    "titles[1].text"
   ]
  },
  {
   "cell_type": "code",
   "execution_count": 54,
   "id": "7d9bea0f",
   "metadata": {},
   "outputs": [
    {
     "data": {
      "text/plain": [
       "'Anna Biller'"
      ]
     },
     "execution_count": 54,
     "metadata": {},
     "output_type": "execute_result"
    }
   ],
   "source": [
    "authors[1].text"
   ]
  },
  {
   "cell_type": "code",
   "execution_count": 55,
   "id": "8bf36cf0",
   "metadata": {
    "scrolled": true
   },
   "outputs": [
    {
     "data": {
      "text/plain": [
       "'A subversive take on the famous French fairy tale from the acclaimed director of The Love Witch, and for fans of Jane Eyre\\n\\nWhen the successful British mystery writer Judith meets Gavin, a handsome and charming baron, at a birthday party on the Cornish coast, his love transforms her from a bitter, lonely young woman into a romance heroine overnight. After a whirlwind honeymoon in Paris, he whisks her away to a secluded Gothic castle. But soon she finds herself trapped in a nightmare, as her husband’s mysterious nature, and his alternation between charm and violence, become increasingly frightening.\\n\\nAs Judith battles both internal and external demons, including sexual ambivalence, psychological self-torture, gaslighting, family neglect, alcoholism, and domestic abuse, she becomes increasingly addicted to her wild beast of a husband. Why do women stay in abusive relationships? The answer can be found in the tortured mind of the protagonist, whose richly layered fantasy life parallels that of the female gothic romance reader. Filled with dark humor and evocative imagery, Bluebeard’s Castle is a subversive take on modern romance and gothic erotica.'"
      ]
     },
     "execution_count": 55,
     "metadata": {},
     "output_type": "execute_result"
    }
   ],
   "source": [
    "descr[1].text"
   ]
  },
  {
   "cell_type": "code",
   "execution_count": 21,
   "id": "78072faa",
   "metadata": {},
   "outputs": [
    {
     "data": {
      "text/plain": [
       "'Capitol Chase (National Archive Hunters, #1)'"
      ]
     },
     "execution_count": 21,
     "metadata": {},
     "output_type": "execute_result"
    }
   ],
   "source": [
    "x[0].text"
   ]
  },
  {
   "cell_type": "code",
   "execution_count": 22,
   "id": "77e91163",
   "metadata": {},
   "outputs": [
    {
     "data": {
      "text/plain": [
       "'https://www.goodreads.com/giveaway/show/387854-capitol-chase'"
      ]
     },
     "execution_count": 22,
     "metadata": {},
     "output_type": "execute_result"
    }
   ],
   "source": [
    "x[0].get_attribute(\"href\")"
   ]
  },
  {
   "cell_type": "code",
   "execution_count": 37,
   "id": "ae6b0343",
   "metadata": {},
   "outputs": [],
   "source": [
    "links = list(map(lambda x: 'https://www.goodreads.com/giveaway/enter_print_giveaway/' + x.get_attribute(\"href\").split('enter_choose_address/')[1].replace('?ref=giv_enter_cta','?address=4645032'), driver.find_elements(By.XPATH, \"//div[@class='GiveawayMetadata__enterGiveawayButton']/a\")))"
   ]
  },
  {
   "cell_type": "code",
   "execution_count": 38,
   "id": "fac6dfef",
   "metadata": {},
   "outputs": [
    {
     "data": {
      "text/plain": [
       "['https://www.goodreads.com/giveaway/enter_print_giveaway/388269-worth-the-wait?address=4645032',\n",
       " 'https://www.goodreads.com/giveaway/enter_print_giveaway/388221-ajha-s-web-a-series?address=4645032',\n",
       " 'https://www.goodreads.com/giveaway/enter_print_giveaway/388030-the-worst-perfect-moment?address=4645032',\n",
       " 'https://www.goodreads.com/giveaway/enter_print_giveaway/387889-devils-kill-devils?address=4645032',\n",
       " 'https://www.goodreads.com/giveaway/enter_print_giveaway/381494-the-last-word?address=4645032',\n",
       " 'https://www.goodreads.com/giveaway/enter_print_giveaway/381429-a-nurse-s-tale?address=4645032',\n",
       " 'https://www.goodreads.com/giveaway/enter_print_giveaway/388263-the-dream-guy?address=4645032',\n",
       " 'https://www.goodreads.com/giveaway/enter_print_giveaway/388259-bluebeard-s-castle?address=4645032',\n",
       " 'https://www.goodreads.com/giveaway/enter_print_giveaway/388257-skyriders?address=4645032',\n",
       " 'https://www.goodreads.com/giveaway/enter_print_giveaway/388250-customer-magic-the-macquarie-way-how-to-reimagine-customer-experience?address=4645032',\n",
       " 'https://www.goodreads.com/giveaway/enter_print_giveaway/388243-how-to-hide-in-plain-sight?address=4645032',\n",
       " 'https://www.goodreads.com/giveaway/enter_print_giveaway/388242-a-ruse-of-shadows?address=4645032',\n",
       " 'https://www.goodreads.com/giveaway/enter_print_giveaway/388239-a-heart-like-home?address=4645032',\n",
       " 'https://www.goodreads.com/giveaway/enter_print_giveaway/388222-ink-sigil?address=4645032',\n",
       " 'https://www.goodreads.com/giveaway/enter_print_giveaway/388218-one-year-ago-in-spain?address=4645032']"
      ]
     },
     "execution_count": 38,
     "metadata": {},
     "output_type": "execute_result"
    }
   ],
   "source": [
    "links"
   ]
  },
  {
   "cell_type": "code",
   "execution_count": 4,
   "id": "ab2b76d4",
   "metadata": {},
   "outputs": [
    {
     "name": "stdout",
     "output_type": "stream",
     "text": [
      "The Dream Guy\n",
      "Bluebeard's Castle\n",
      "Skyriders\n",
      "Customer Magic — The Macquarie Way: How to Reimagine Customer Experience to Transform Your Business\n",
      "How to Hide in Plain Sight\n",
      "A Ruse of Shadows (Lady Sherlock, #8)\n",
      "A Heart Like Home\n",
      "Ink & Sigil (Ink & Sigil, #1)\n",
      "One Year Ago in Spain\n",
      "Running Close to the Wind\n",
      "This is Why We Lied (Will Trent, #12)\n",
      "Rocky Mountain Highway: Stories and Photos of My 25 Years Traveling with John Denver\n",
      "Shanghailanders\n",
      "Hell If We Don't Change Our Ways: A Memoir\n",
      "Double Exposure\n"
     ]
    }
   ],
   "source": [
    "for book in x:\n",
    "    print(book.text)"
   ]
  },
  {
   "cell_type": "code",
   "execution_count": 59,
   "id": "a7b84d1a",
   "metadata": {},
   "outputs": [
    {
     "name": "stdout",
     "output_type": "stream",
     "text": [
      "The Dream Guy by Rebecca C. Smith\n",
      "Description: Life tip: Never kiss your neighbor an hour after meeting him.\n",
      "\n",
      "After her husband came out and ended their 22-year marriage, Hazel’s ready to dive back into dating. When the dreamy guy next door returns her wandering cat, the conversation flows, and Hazel can't help herself. They have the kiss of the century.\n",
      "\n",
      "Plot twist: immediate friend-zoning.\n",
      "\n",
      "Now rejected, she decides to explore past connections with men she never pursued because she was married. While rekindling the spark with lost loves, her new friendship with neighbor Ethan intensifies. But he’s clearly not interested in the possibility of romance. Is memory lane the right path to love? Or will Hazel end up by herself?\n",
      "\n",
      "After years of toxic choices, Ethan’s repeating the same pattern. He met the woman of his dreams and ran like a coward. But he wants to change, even if it takes therapy, for a shot with her. Will Ethan summon the courage to tell Hazel how he feels? Or will he lose his chance forever because of his own fears?\n",
      "\n",
      "For lovers of neurotic romantic comedies about navigating life in your forties, with a dose of mental health rep, and loads of eighties pop culture references. It’s time to swoon over the guy next door in this friends to lovers romance about finding love again after divorce.\n",
      "Do you want to enter this giveaway?\n",
      "Bluebeard's Castle by Anna Biller\n",
      "Description: A subversive take on the famous French fairy tale from the acclaimed director of The Love Witch, and for fans of Jane Eyre\n",
      "\n",
      "When the successful British mystery writer Judith meets Gavin, a handsome and charming baron, at a birthday party on the Cornish coast, his love transforms her from a bitter, lonely young woman into a romance heroine overnight. After a whirlwind honeymoon in Paris, he whisks her away to a secluded Gothic castle. But soon she finds herself trapped in a nightmare, as her husband’s mysterious nature, and his alternation between charm and violence, become increasingly frightening.\n",
      "\n",
      "As Judith battles both internal and external demons, including sexual ambivalence, psychological self-torture, gaslighting, family neglect, alcoholism, and domestic abuse, she becomes increasingly addicted to her wild beast of a husband. Why do women stay in abusive relationships? The answer can be found in the tortured mind of the protagonist, whose richly layered fantasy life parallels that of the female gothic romance reader. Filled with dark humor and evocative imagery, Bluebeard’s Castle is a subversive take on modern romance and gothic erotica.\n",
      "Do you want to enter this giveaway?\n",
      "Skyriders by Polly Holyoke\n",
      "Description: Wings of Fire meets Skandar and the Unicorn Thief in this epic fantasy adventure set in a world where human and skysteed share a deep bond of friendship and love.\n",
      "\n",
      "When monsters emerge to attack the empire, it's up to Kiesandra and her beloved winged horse N'Rah to prove to herself and the imperial army that she has what it takes to lead them to victory . . . and survival.\n",
      "\n",
      "Twelve-year-old Kiesandra's best friend isn't human, but that doesn't stop her from sharing jokes and secrets with her winged horse, N'Rah. She, like every other person with a skysteed, can communicate with N'Rah through her mind. Their bond is critical when one day, monsters from long ago reemerge to ravage a nearby village. No one knows how to fight the fearsome chimerae except Kie's uncle . . . and now Kie.\n",
      "\n",
      "Injured in the battle, Uncle Dug makes her promise to bring his attack plan and weapons to the capital. Kie reluctantly agrees. At the palace, she and N'Rah attempt to gain the trust of the royals and train the army in Dug's lessons. But how can a young girl and her skysteed convince anyone that only they know how to defeat the deadly monsters?\n",
      "\n",
      "Buzzing with action, heart, and friendship, this first book in the Skyriders series show that kids can achieve the impossible—especially with flying horses on their side.\n",
      "Do you want to enter this giveaway?\n",
      "Customer Magic — The Macquarie Way: How to Reimagine Customer Experience to Transform Your Business by Joseph A. Michelli\n",
      "Description: It takes a special kind of magic for a challenger brand to achieve seemingly impossible customer-centric results. It' s that magic that makes Australian telecommunications company Macquarie Technology world leaders in award-winning customer experience. Joseph A. Michelli – the bestselling author of books about brands renowned for their stellar service and outstanding growth, such as The Ritz-Carlton, Mercedes-Benz and Starbucks – was so impressed by Macquarie' s ability to deliver transformative customer experiences that he felt compelled to write this book. Customer Magic is a practical, easy-to-read guide that, consistent with Macquarie' s commitment to delivering customer value, shares transferrable knowledge on how to identify and solve customer pain points; craft a compelling unique value proposition; attract, select, grow and retain customer service talent and subject matter expertise; set, measure, track and incentivise mission-critical business goals and customer-driven growth; innovate solutions that meet your customers' stated and unstated needs; and maintain a growth mindset and leave a legacy of success.\n",
      "Do you want to enter this giveaway?\n",
      "How to Hide in Plain Sight by Emma Noyes\n",
      "Description: The unbreakable bonds of family and love are explored in this brilliant and tender story from the author of Guy's Girl.\n",
      "\n",
      "On the day she arrives in Canada for her older brother's wedding, Eliot Beck hasn't seen her family in three years. Eliot adores her big, wacky, dysfunctional collection of siblings and in-laws, but there's a reason she fled to Manhattan and buried herself in her work—and she’s not ready to share it with anyone. Not when speaking it aloud could send her back into the never-ending cycle of the obsessive-compulsive disorder that consumed her for years.\n",
      "\n",
      "Eliot thinks she's prepared to survive the four-day-long wedding extravaganza—until she sees her best friend, Manuel, waiting for her at the marina and looking as handsome as ever. He was the person who, when they met as children, felt like finding the missing half of her soul. The person she tried so hard not to fall in love with… but did anyway.\n",
      "\n",
      "Manuel's presence at the wedding threatens to undo the walls Eliot has built around herself. The fortress that keeps her okay. If she isn't careful, by the end of this wedding, the whole castle might come crumbling down.\n",
      "Do you want to enter this giveaway?\n",
      "A Ruse of Shadows (Lady Sherlock, #8) by Sherry Thomas\n",
      "Description: Charlotte Holmes is accustomed to solving crimes, not being accused of them, but she finds herself in a dreadfully precarious position as the bestselling Lady Sherlock series continues.\n",
      "\n",
      "Charlotte’s success on the RMS Provence has afforded her a certain measure of time and assurance. Taking advantage of that, she has been busy, plotting to prise the man her sister loves from Moriarty’s iron grip.\n",
      "\n",
      "Disruption, however, comes from an unexpected quarter. Lord Bancroft Ashburton, disgraced and imprisoned as a result of Charlotte’s prior investigations, nevertheless manages to press Charlotte into service: Underwood, his most loyal henchman, is missing and Lord Bancroft wants Charlotte to find Underwood, dead or alive.\n",
      "\n",
      "But then Lord Bancroft himself turns up dead and Charlotte, more than anyone else, meets the trifecta criteria of motive, means, and opportunity. Never mind rescuing anyone else, with the law breathing down her neck, can Charlotte save herself from prosecution for murder?\n",
      "Do you want to enter this giveaway?\n",
      "A Heart Like Home by Christine Nolfi\n",
      "Description: Finding family is a journey of love, risk, secrets, and healing in a powerful novel by the bestselling author of A Brighter Flame, The Passing Storm, and The Road She Left Behind.\n",
      "\n",
      "When Nova Doubeck is asked to foster two children, she can’t say no. With her own childhood wounds healed by adoptive parents, Nova understands the rewards of a caring guardian―even an impermanent one. But nine-year-old Henry and his seven-year-old sister, Bella, are more than Nova bargained for.\n",
      "\n",
      "Combative Henry is at risk of becoming like his abusive father, Egan Croy. Timid Bella, clutching a tin box of treasures, cowers at the slightest noise. Yet Nova gradually earns their trust and affection as they bring unexpected love and joy to her guarded life. Now she can’t help but wonder: How will she stop her heart from breaking when the time comes to say goodbye?\n",
      "\n",
      "As Egan aggressively battles to regain control over the children, Nova’s protective instincts prove just as fierce. In fighting to save Henry and Bella, she’ll unlock the secrets hidden in their past―and learn more about herself and the true meaning of family than anyone imagined.\n",
      "Do you want to enter this giveaway?\n",
      "Ink & Sigil (Ink & Sigil, #1) by Kevin Hearne\n",
      "Description: Author Kevin Hearne returns to the world of the Iron Druid Chronicles in a spin-off series about an eccentric master of rare magic solving an uncanny mystery in Scotland.\n",
      "\n",
      "Al MacBharrais is both blessed and cursed. He is blessed with an extraordinary white moustache, an appreciation for craft cocktails--and a most unique magical talent. He can cast spells with magically enchanted ink and he uses his gifts to protect our world from rogue minions of various pantheons, especially the Fae.\n",
      "\n",
      "But he is also cursed. Anyone who hears his voice will begin to feel an inexplicable hatred for Al, so he can only communicate through the written word or speech apps. And his apprentices keep dying in peculiar freak accidents. As his personal life crumbles around him, he devotes his life to his work, all the while trying to crack the secret of his curse.\n",
      "\n",
      "But when his latest apprentice, Gordie, turns up dead in his Glasgow flat, Al discovers evidence that Gordie was living a secret life of crime. Now Al is forced to play detective--while avoiding actual detectives who are wondering why death seems to always follow Al. Investigating his apprentice's death will take him through Scotland's magical underworld, and he'll need the help of a mischievous hobgoblin if he's to survive.\n",
      "Do you want to enter this giveaway?\n",
      "One Year Ago in Spain by Evelyn Skye\n",
      "Description: A woman must woo her lover’s soul back into his body to wake him from a coma—or risk losing him forever—in this moving novel from the author of The Hundred Loves of Juliet.\n",
      "\n",
      "Claire Walker has always had her life in perfect order, including her high-powered job at one of Manhattan’s top corporate law firms. Yet the one thing she cannot seem to find is a perfect love to complete it, until fate pushes Matías de León into her path. Matías is a Spanish artist who is everything that Claire is not: free-spirited and creative, chaos to her order. She falls for him, hard—and he for her.\n",
      "\n",
      "A year later, however, Claire begins to question everything about their relationship. How can they possibly work long-term when they’re so different? Might it be best to end it before they are both in too deep?\n",
      "\n",
      "Then tragedy strikes while Matías is visiting family, leaving him gravely wounded in a Madrid hospital. And when Claire drops everything to race to his side, she finds she is the only one who can see and talk to Matías’s soul, detached from his comatose body. But that soul has no memories of his year in New York, of her, or of their relationship. Claire soon realizes that in order to lure Matías back to his body, she will have to convince him to fall in love with her all over again. But can lightning strike twice? Can the same magic that brought them together once do so again?\n",
      "Do you want to enter this giveaway?\n"
     ]
    },
    {
     "name": "stdout",
     "output_type": "stream",
     "text": [
      "Running Close to the Wind by Alexandra Rowland\n",
      "Description: Avra Helvaçi, former field agent of the Arasti Ministry of Intelligence, has accidentally stolen the single most expensive secret in the world―and the only place to flee with a secret that big is the open sea.To find a buyer with deep enough pockets, Avra must ask for help from his on-again, off-again ex, the pirate Captain Teveri az-Haffar. They are far from happy to see him, but together, they hatch a take the information to the isolated pirate republic of the Isles of Lost Souls, fence it, profit. The only things in their way? A calculating new Arasti ambassador to the Isles of Lost Souls who's got his eyes on Avra's every move; Brother Julian, a beautiful, mysterious new member of the crew with secrets of his own and a frankly inconvenient vow of celibacy; the fact that they're sailing straight into sea serpent breeding season and almost certain doom.But if they can find a way to survive and sell the secret on the black market, they’ll all be as wealthy as kings―and, more importantly, they'll be legends.\n",
      "Do you want to enter this giveaway?\n",
      "This is Why We Lied (Will Trent, #12) by Karin Slaughter\n",
      "Description: The next thrilling suspense featuring Will Trent and Sara Linton from Karin Slaughter, New York Times bestselling author of Pretty Girls and After That Night!\n",
      "\n",
      "Everyone here is a liar, but only one of us is a killer…\n",
      "\n",
      "A secluded cabin retreat\n",
      "\n",
      "For GBI investigator Will Trent and medical examiner Sara Linton, McAlpine Lodge seems like the ideal getaway to celebrate their honeymoon. Set on a gorgeous, off-the-grid mountaintop property, it’s the perfect place to unplug and reconnect. Until a bone-chilling scream cuts through the night.\n",
      "\n",
      "\n",
      "\n",
      "Mercy McAlpine, the manager of the Lodge, is dead. With a vicious storm raging and the one access road to the property washed out, the murderer must be someone on the mountain. But as Will and Sara investigate the McAlpine family and the other guests, they realize that everyone here is lying….Lying about their past. Lying to their family. Lying to themselves.\n",
      "\n",
      "\n",
      "\n",
      "It soon becomes clear that normal rules don’t apply at McAlpine Lodge, and Will and Sara are going to have to watch their step at every turn. Trapped on the resort, they must untangle a decades-old web of secrets to discover what happened to Mercy. And with the killer poised to strike again, the trip of a lifetime becomes a race against the clock…\n",
      "Do you want to enter this giveaway?\n",
      "Rocky Mountain Highway: Stories and Photos of My 25 Years Traveling with John Denver by Lowell Norman\n",
      "Description: A powerful personal journey with multi-platinum country star John Denver, featuring intimate stories and never-before-seen photographs. This memoir from Lowell Norman, a close friend and videographer of the late star, offers a rare and fascinating look inside Denver’s successful but turbulent life.\n",
      "\n",
      "The award-winning country star, John Denver was once described as a complicated man who wrote simple songs. In Rocky Mountain Highway, close friend and videographer, Lowell Norman reveals rare stories and never-before-seen photos of a John Denver that is at turns familiar and shockingly unexpected. He recounts the emotional live performances and the challenges of shooting such a big star. He describes in harrowing detail the frightening experience of being harassed by gun wielding soldiers with Denver on his tours of Africa for The Hunger Project. He tells the riveting story of dangling from a helicopter with a video camera while the intrepid singer tried to swim with humpback whales in the Pacific Ocean. Rocky Mountain Highway is a celebration of a young man following the dreams of a talented artist who was misunderstood by many and gone before his time.\n",
      "Do you want to enter this giveaway?\n",
      "Shanghailanders by Juli Min\n",
      "Description: A dazzling and ambitious debut novel that follows a cosmopolitan Shanghai household backward in time—beginning in 2040 and moving through our present and the recent past—exploring their secrets, their losses, and the ways a family makes and remakes itself across the years.\n",
      "\n",
      "2040: Wealthy real estate investor Leo Yang—handsome, distinguished, a real Shanghai man—is on the train back to the city after seeing his family off at the airport. His sophisticated Japanese-French wife, Eko, and their two eldest children, Yumi and Yoko, are headed for Boston, though one daughter’s revelation will soon reroute them to Paris. 2039: Kiko, their youngest daughter and an aspiring actress, decides to pursue fame at any cost, like her icon Marilyn Monroe. 2038: Yumi comes to Yoko in need, after a college-dorm situation at Harvard goes disastrously wrong.\n",
      "\n",
      "As the years rewind to 2014, brings readers into the shared and separate lives of the Yang family parent by parent, daughter by daughter, and through the eyes of the people in their orbit—a nanny from the provinces, a private driver with a penchant for danger, and a grandmother whose memories of the past echo the present. We glimpse a future where the city’s waters rise and the specter of apocalypse is never far off. But in Juli Min’s hands, we also see that whatever may change, universal constants remain: love is complex, life is not fair, and family will always be stubbornly connected by blood, secrets, and longing.\n",
      "\n",
      "Brilliantly constructed and achingly resonant, is an unforgettable exploration of marriage, relationships, and the layered experience of time.\n",
      "Do you want to enter this giveaway?\n",
      "Hell If We Don't Change Our Ways: A Memoir by Brittany Means\n",
      "Description: Starred review from Kirkus \"Brittany Means has pieced together the shards of a devastating childhood in this powerful memoir. It's gut-wrenching but at the same time triumphant, harrowing yet exquisitely told. Hell If We Don't Change Our Ways is a story of survival that left me choked up and cheering.\"\n",
      "-Jeannette Walls, author of The Glass Castle \"The book's lasting impact might be what it demands of the memoir genre. Brittany Means has, at once, created the most readable and the most psychologically rigorous book I've read in decades. I needed the reminder that art can do this.\"\n",
      "-Kiese Laymon, author of Heavy \"I can't write a story about myself as the sad, quiet child of two drug addicts. That's not how it was, even when it was. To me, sleeping in the car was normal. Better, it was comfy and fun. I loved my bed made of clothes inside a trash bag that I sank into slowly like Uncle Fester from the Addams Family movie. . . . I loved the motels and their swimming pools and trashy daytime TV channels. . . . Nobody could tell us what to do.\" Brittany Means's childhood was a blur of highways and traumas that collapsed any effort to track time. Riding shotgun as her mother struggled to escape abusive relationships, Brittany didn't care where they were going--to a roadside midwestern motel, a shelter, or The Barn in Indiana, the cluttered mansion her Pentecostal grandparents called home--as long as they were together. But every so often, her mom would surprise her--and leave. As Brittany grew older and questioned her own complicated relationships and the poverty, abuse, and instability that enveloped her, she began to recognize that hell wasn't only the place she read about in the Bible; it was the cycle of violence that entrapped her family. Through footholds such as horror movies, neuropsychology, and strong bonds, Brittany makes sense of this cycle and finds a way to leave it. While untangling the web of her most painful memories, Brittany crafts a tale of self-preservation, resilience, and hope with a unique narrative style--a sparkling example of the human ability to withstand the most horrific experiences and still thrive.\n",
      "Do you want to enter this giveaway?\n",
      "Double Exposure by Elissa R. Sloan\n",
      "Description: Author of THE UNRAVELING OF CASSIDY HOLMES and HAYLEY ALDRIDGE IS STILL HERE Elissa R. Sloan's DOUBLE EXPOSURE, in which a Japanese-American model-actress and an actor-director are thrown together over and over throughout their tumultuous relationship through the 2000s to the present, in a story that examines the work we have to do in order to grow into the people we want to become, to Asante Simmons at William Morrow, for publication in fall 2024, by Kelly Van Sant at kt literary (world English).\n",
      "Do you want to enter this giveaway?\n"
     ]
    }
   ],
   "source": [
    "for i in range(len(titles)):\n",
    "    print(titles[i].text + ' by ' + authors[i].text)\n",
    "    print('Description: ' + descr[i].text)\n",
    "    ans = input('Do you want to enter this giveaway?')\n",
    "    if ans is 'y':\n",
    "        driver.get(links[i])"
   ]
  },
  {
   "cell_type": "code",
   "execution_count": 39,
   "id": "5d1b1d7d",
   "metadata": {},
   "outputs": [],
   "source": [
    "driver.get(links[2])"
   ]
  },
  {
   "cell_type": "code",
   "execution_count": 33,
   "id": "29854374",
   "metadata": {},
   "outputs": [
    {
     "data": {
      "text/plain": [
       "['https://www.goodreads.com/giveaway/enter_print_giveaway/388269-worth-the-wait?ref=giv_enter_cta?address=4645032',\n",
       " 'https://www.goodreads.com/giveaway/enter_print_giveaway/388221-ajha-s-web-a-series?ref=giv_enter_cta?address=4645032',\n",
       " 'https://www.goodreads.com/giveaway/enter_print_giveaway/388030-the-worst-perfect-moment?ref=giv_enter_cta?address=4645032',\n",
       " 'https://www.goodreads.com/giveaway/enter_print_giveaway/387889-devils-kill-devils?ref=giv_enter_cta?address=4645032',\n",
       " 'https://www.goodreads.com/giveaway/enter_print_giveaway/381494-the-last-word?ref=giv_enter_cta?address=4645032',\n",
       " 'https://www.goodreads.com/giveaway/enter_print_giveaway/381429-a-nurse-s-tale?ref=giv_enter_cta?address=4645032',\n",
       " 'https://www.goodreads.com/giveaway/enter_print_giveaway/388263-the-dream-guy?ref=giv_enter_cta?address=4645032',\n",
       " 'https://www.goodreads.com/giveaway/enter_print_giveaway/388259-bluebeard-s-castle?ref=giv_enter_cta?address=4645032',\n",
       " 'https://www.goodreads.com/giveaway/enter_print_giveaway/388257-skyriders?ref=giv_enter_cta?address=4645032',\n",
       " 'https://www.goodreads.com/giveaway/enter_print_giveaway/388250-customer-magic-the-macquarie-way-how-to-reimagine-customer-experience?ref=giv_enter_cta?address=4645032',\n",
       " 'https://www.goodreads.com/giveaway/enter_print_giveaway/388243-how-to-hide-in-plain-sight?ref=giv_enter_cta?address=4645032',\n",
       " 'https://www.goodreads.com/giveaway/enter_print_giveaway/388242-a-ruse-of-shadows?ref=giv_enter_cta?address=4645032',\n",
       " 'https://www.goodreads.com/giveaway/enter_print_giveaway/388239-a-heart-like-home?ref=giv_enter_cta?address=4645032',\n",
       " 'https://www.goodreads.com/giveaway/enter_print_giveaway/388222-ink-sigil?ref=giv_enter_cta?address=4645032',\n",
       " 'https://www.goodreads.com/giveaway/enter_print_giveaway/388218-one-year-ago-in-spain?ref=giv_enter_cta?address=4645032']"
      ]
     },
     "execution_count": 33,
     "metadata": {},
     "output_type": "execute_result"
    }
   ],
   "source": [
    "links"
   ]
  },
  {
   "cell_type": "code",
   "execution_count": 45,
   "id": "e68472e3",
   "metadata": {},
   "outputs": [],
   "source": [
    "driver.find_element(by=By.NAME, value=\"entry_terms\").click()"
   ]
  },
  {
   "cell_type": "code",
   "execution_count": null,
   "id": "ea91c1db",
   "metadata": {},
   "outputs": [],
   "source": [
    "driver.find_element(by=By.NAME, value=\"commit\").click()"
   ]
  },
  {
   "cell_type": "code",
   "execution_count": null,
   "id": "bfde9901",
   "metadata": {},
   "outputs": [],
   "source": []
  }
 ],
 "metadata": {
  "kernelspec": {
   "display_name": "Python 3 (ipykernel)",
   "language": "python",
   "name": "python3"
  },
  "language_info": {
   "codemirror_mode": {
    "name": "ipython",
    "version": 3
   },
   "file_extension": ".py",
   "mimetype": "text/x-python",
   "name": "python",
   "nbconvert_exporter": "python",
   "pygments_lexer": "ipython3",
   "version": "3.9.2"
  }
 },
 "nbformat": 4,
 "nbformat_minor": 5
}
