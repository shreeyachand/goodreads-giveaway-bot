{
 "cells": [
  {
   "cell_type": "code",
   "execution_count": 1,
   "id": "952e2b3f",
   "metadata": {},
   "outputs": [
    {
     "name": "stdout",
     "output_type": "stream",
     "text": [
      "https://www.goodreads.com/ap/signin?language=en_US&openid.assoc_handle=amzn_goodreads_web_na&openid.claimed_id=http%3A%2F%2Fspecs.openid.net%2Fauth%2F2.0%2Fidentifier_select&openid.identity=http%3A%2F%2Fspecs.openid.net%2Fauth%2F2.0%2Fidentifier_select&openid.mode=checkid_setup&openid.ns=http%3A%2F%2Fspecs.openid.net%2Fauth%2F2.0&openid.pape.max_auth_age=0&openid.return_to=https%3A%2F%2Fwww.goodreads.com%2Fap-handler%2Fsign-in&siteState=470117aefad90371c2b76279b97df969\n",
      "https://www.goodreads.com/\n",
      "https://www.goodreads.com/blog/show/2752?ref=aapi2024_eb\n"
     ]
    }
   ],
   "source": [
    "from selenium.webdriver.common.by import By\n",
    "from selenium import webdriver\n",
    "from selenium.webdriver.chrome.options import Options\n",
    "import time\n",
    "\n",
    "driver = webdriver.Chrome()\n",
    "driver.delete_all_cookies()\n",
    "\n",
    "signed_in = False\n",
    "while not signed_in:\n",
    "    driver.get(\"https://www.goodreads.com/user/sign_in\")\n",
    "    driver.find_element(by=By.CLASS_NAME, value=\"authPortalConnectButton\").click()\n",
    "    driver.find_element(by=By.NAME, value=\"email\").send_keys(\"chshreeya@gmail.com\")\n",
    "    driver.find_element(by=By.NAME, value=\"password\").send_keys(\"Books@1234\")\n",
    "    driver.find_element(by=By.ID, value=\"signInSubmit\").click()\n",
    "    print(driver.current_url)\n",
    "    if driver.current_url == \"https://www.goodreads.com/\":\n",
    "        signed_in = True\n",
    "    time.sleep(3)\n",
    "while \"https://www.goodreads.com/giveaway\" not in driver.current_url:\n",
    "    driver.get(\"https://www.goodreads.com/giveaway?sort=recently_listed&format=print\")\n",
    "el = driver.find_elements(By.CSS_SELECTOR, \"a\")\n",
    "print(el[0].get_attribute(\"href\"))"
   ]
  },
  {
   "cell_type": "code",
   "execution_count": 14,
   "id": "39c93375",
   "metadata": {},
   "outputs": [],
   "source": [
    "driver.get(\"https://www.goodreads.com/giveaway?sort=recently_listed&format=print\")"
   ]
  },
  {
   "cell_type": "markdown",
   "id": "3c3a69a7",
   "metadata": {},
   "source": [
    "**LOGIC**\n",
    "once on giveaway page, filter to print books"
   ]
  },
  {
   "cell_type": "code",
   "execution_count": 15,
   "id": "4bf57366",
   "metadata": {},
   "outputs": [],
   "source": [
    "titles = list(map(lambda x: x.text, driver.find_elements(By.XPATH, \"//article/div/div[@class='BookListItem__title']/h3/strong/a\")))\n",
    "authors = list(map(lambda x: x.text, driver.find_elements(By.XPATH, \"//article/div/div/h3/div/span/a/span[@class='ContributorLink__name']\")))\n",
    "descr = list(map(lambda x: x.text, driver.find_elements(By.XPATH, \"//article/div/div/div/span[@class='Formatted']\")))\n",
    "links = list(map(lambda x: 'https://www.goodreads.com/giveaway/enter_print_giveaway/' + x.get_attribute(\"href\").split('enter_choose_address/')[1].replace('?ref=giv_enter_cta','?address=4645032'), driver.find_elements(By.XPATH, \"//div[@class='GiveawayMetadata__enterGiveawayButton']/a\")))"
   ]
  },
  {
   "cell_type": "code",
   "execution_count": 16,
   "id": "a7b84d1a",
   "metadata": {
    "scrolled": true
   },
   "outputs": [
    {
     "name": "stdout",
     "output_type": "stream",
     "text": [
      "This Eclipsed Crown by Lina C. Amarego\n",
      "Description: Three hearts. Two Kingdoms. One dark vow.\n",
      "\n",
      "NO ONE TOLD Thera of Erebus how heavy her late father’s crown would be. But the newly appointed Shadow King feels its weight as she fights a war on two sides; against the Shadowborne, the vicious race of monsters terrorizing her people–and the vast, resourceful Luxian Empire. To end the bloodshed, the former ‘soul eater’ lays down her sword and forges a deal, offering to marry the Prince of Lux and settle the ages-long conflict once and for all– as long as she can keep her dark, shadowed past a secret.\n",
      "\n",
      "No one told Prince Caelum Borealis how to lead. Cast in his father’s long, impressive shadow, he has lived his days studying the texts of his people without ever seeing the action, his illness keeping him caged in his own body. But when the new King of Erebus offers him a proposition--his hand in marriage for the promise of her dark power—Caelum has the opportunity to carve his own name into the history books and finally make his late mother proud.\n",
      "\n",
      "No one told Aurora Bellatore the true price of a life. Since she swore her oath as the youngest Captain of the Guard in Luxian history, she would gladly give her life for the kingdom of Lux-- and for her beloved Prince Caelum. But when tasked to discreetly kill the new King of Erebus, she must decide which she’d rather sacrifice; her position, or her honor.\n",
      "\n",
      "As Kingdoms eclipse and bonds shatter, as truths come to light and betrayals are exposed, Thera, Aurora, and Caelum must make the choice to either fill the roles they’ve been given, or to let their hearts lead; and risk breaking them.\n",
      "Do you want to enter this giveaway?n\n",
      "Star Wars: Visions — The Manga Anthology by Kamome Shirahama\n",
      "Description: Celebrate the mythos of Star Wars with this manga adaptation of the hit Disney+ series Star Visions !\n",
      "\n",
      "The first series of Star Visions invited visionary Japanese anime studios to explore the Star Wars galaxy through their unique cultural lens. Now, top manga creators such as Kamome Shirahama and Yusuke Osawa bring those visions to life in manga form! Featuring the “The Elder,” “Lop and Ocho,” “The Ninth Jedi,” and “The Twins.”\n",
      "Do you want to enter this giveaway?n\n",
      "On His Way Back To Me by Brittany Bacinski\n",
      "Description: Jade and Paul fall for each other hard as teenagers in their small town of Tiffin, Ohio. They seem to be made for one another until one day, it all unravels.\n",
      "\n",
      "Later, Jade meets Sam, an affluent real estate mogul from Chicago who promises to give her the life she could never have in Tiffin. Life is never as it seems, with Paul resurfacing before her upcoming nuptials, begging her to change her mind. When Paul suddenly passes away, Jade is overcome with regret and spirals into a mind-bending quest through the Appalachian Mountains in an attempt to reach him again.\n",
      "\n",
      "In the foggy mountains, Jade must decide once and for all – will she risk her life to be with Paul again, or will she choose instead to remain in a place she’s no longer meant to be? On His Way Back To Me is a gorgeously romantic story that keeps you on the edge of your seat.\n",
      "\n",
      "Bacinski fearlessly showcases the turbulent journey of maddening grief while begging the question— does true love ever die?\n",
      "Do you want to enter this giveaway?n\n",
      "NecroTek by Jonathan Maberry\n",
      "Description: From New York Times bestselling author Jonathan Maberry, NecroTek is a gripping sci fi thriller full of ghosts, Gods, and a battle for the soul of humanity. Neither cosmic philosopher Lars Soren, hotshot pilot Bianca Petrescu, nor the high priestess Jessica McHugh--Lady Death herself--can say quite where in the galaxy they are. But after an experiment gone horribly wrong, one thing is Asphodel Station isn't in orbit around Jupiter any longer. Worse, the monsters that live out here--ancient eldritch beings thought only to exist in stories and nightmares--have now been alerted to Earth's existence. Their army of Shoggoths is coming for us next. Humanity's only hope for survival lies on the surface of the alien world of Shadderal, where a ghost named Lost, the last of an ancient race, still haunts the vast plains of the Field of Dead Birds. But hope has a cost. Lost tells Soren about ancient derelict spacecraft awaiting on Shadderal, shapeshifting machines that blend ultra-advanced technology with the dark powers of necromancy. These ships might just be nimble enough to defend mankind against the coming invasion. But there's a they can only be piloted by the dead. As human starfighters fall in battle, their spirits can be called back from death to pilot these ghost ships of a fallen race. But will this new necromantic technology--NecroTek--allow humanity to stand against the vast armies of the Shoggoths? And even if it can, is the war to save the human race worth the cost of its pilots' immortal souls?\n",
      "Do you want to enter this giveaway?n\n",
      "The Devil's Fortress by Dale Brown\n",
      "Description: The fourth book in the Nick Flynn series from Dale Brown and Patrick Larkin, this page-turning military thriller is perfect for fans of Tom Clancy, Robert Ludlum, and James Bond. Nick Flynn and his Quartet Directorate special action team launch a daring, high-risk mission deep into Russia itself--a mission aimed at destroying the threat posed by Russian oligarch Pavel Voronin once and for all. Backed by Russia's autocratic president, Piotr Zhdanov, mercenary oligarch Pavel Voronin readies another deadly covert assault on the United States and its allies. Previously in the series, Nick Flynn and his team managed to thwart Voronin--though only at the last minute and at a high cost. Now, however, Flynn, daring pilot and agent Laura Van Horn, and the others are no longer playing defense. They're coming for Voronin--determined to take the fight directly to their dangerous foe in a high-stakes, all-or-nothing strike deep into enemy territory.\n",
      "Do you want to enter this giveaway?n\n",
      "The Fiancé Dilemma (The Long Game, #2) by Elena Armas\n",
      "Description: A fake engagement, second chances, and newfound family members come together in this new romance from the New York Times bestselling author of the “swoon-worthy” (Business Insider) The Spanish Love Deception.\n",
      "\n",
      "Josie Moore has given the opposite sex—and love—plenty of chances. Four exactly, if you count all her failed engagements, and five if you include the absentee father who kept her existence a secret until very recently. So when her father decides to announce his retirement with a splashy magazine piece about the family, Josie realizes her romantic history is a complicated PR issue.\n",
      "\n",
      "Matthew Flanagan is in the mud, literally. Not only has he been fired from his job, but also the tires of his car are stuck in the muck after taking a wrong turn as he enters Green Oak, North Carolina. So, he grabs a duffel with his essentials and goes in search of a place to crash until he gets his life back on track. But instead, he finds his best friend’s sister, Josie, greeting him as her fiancé.\n",
      "\n",
      "What starts as a big messy misunderstanding quickly turns into an arrangement with Matthew playing a new role as doting fiancé. A fifth engagement—and a stunt, at that—makes Josie’s stomach turn, but every dilemma requires a choice between equally undesirable alternatives, and Matthew doesn’t seem to mind becoming one more number in a colorful list of grooms-that-never-were. Despite the ring on her finger, Josie knows this is only temporary, even if the rest of the small town believes that the fifth time’s the charm.\n",
      "Do you want to enter this giveaway?n\n",
      "Dual Memory by Sue Burke\n",
      "Description: Sue Burke, author of the acclaimed novel Semiosis , returns with Dual Memory, a standalone novel blending the hard science fiction of Her with the action adventure of The Third Man .\n",
      "\n",
      "Antonio Moro lost everything to the Leviathan League. Now he's alone in a city on an Arctic island fighting the ruthless, global pirates with the chance to be the artist he always wanted to be. Unfortunately, he thinks it’s a cover story for his real purpose―spying on sympathizers.\n",
      "\n",
      "When things look bleak, he discovers an unusual ally. His new personal assistant program, Par Augustus. It’s insolent, extroverted, moody, and a not-quite-legal nascent A. I.\n",
      "\n",
      "Together they create a secret rebellion from unlikely recruits to defend the island from ideological pirates with entitlement and guns, and capitalist pirates with entitlement and money.\n",
      "\n",
      "Other Books by Sue Burke\n",
      "Semiosis\n",
      "Interference\n",
      "Immunity Index\n"
     ]
    },
    {
     "name": "stdout",
     "output_type": "stream",
     "text": [
      "Do you want to enter this giveaway?n\n",
      "This Will Remain With Us by Melissa R. Mendelson\n",
      "Description: This Will Remain With Us is a collection of poems written during the Covid-19 pandemic when Melissa Mendelson suddenly found herself declared an \"essential worker.\"\n",
      "\n",
      "In the midst of the turmoil, she turned to poetry to document and cope with the challenge of the lockdown, and isolation.\n",
      "Do you want to enter this giveaway?y\n",
      "entered!!\n",
      "Shark Heart: A Love Story by Emily Habeck\n",
      "Description: New York Times Editors’ Choice\n",
      "USA TODAY Bestseller\n",
      "\n",
      "A “beautifully written” (Anthony Doerr, Pulitzer Prize–winning author of All the Light We Cannot See ) debut novel of marriage, motherhood, metamorphosis, and letting go, this intergenerational love story begins with newlyweds Wren and her husband, Lewis—a man who, over the course of nine months, transforms into a great white shark.\n",
      "\n",
      "For Lewis and Wren, their first year of marriage is also their last. A few weeks after their wedding, Lewis receives a rare diagnosis. He will retain most of his consciousness, memories, and intellect, but his physical body will gradually turn into a great white shark. As Lewis develops the features and impulses of one of the most predatory creatures in the ocean, his complicated artist’s heart struggles to make peace with his unfulfilled dreams.\n",
      "\n",
      "At first, Wren internally resists her husband’s fate. Is there a way for them to be together after Lewis changes? Then, a glimpse of Lewis’s developing carnivorous nature activates long-repressed memories for Wren, whose story vacillates between her childhood living on a houseboat in Oklahoma, her time with her college ex-girlfriend, and her unusual friendship with a woman pregnant with twin birds. Woven throughout this “heart-wringing” (Adam Roberts, internationally bestselling author of Salt ) novel is the story of Wren’s mother, Angela, who becomes pregnant with Wren at fifteen in an abusive relationship amidst her parents’ crumbling marriage. In the present, all of Wren’s grief eventually collides, and she is forced to make an impossible choice.\n",
      "\n",
      "A sweeping love story that is at once lyrical and funny, airy and visceral, Shark Heart is an unforgettable, gorgeous novel about life’s perennial questions, the fragility of memories, finding joy amidst grief, and creating a meaningful life. This daring debut marks the arrival of a wildly talented new writer abounding with originality, humor, and heart.\n",
      "Do you want to enter this giveaway?n\n",
      "The War Machine by Barry W. Levy\n",
      "Description: It’s 1988, and secrets that were buried deep in the jungles of Vietnam twenty years earlier are starting to re-emerge. David “Kick” Tacker is a Canadian-born—but American-made—stone-cold killer, and is barely holding his psyche together; shattered by years of war and violence. He fought in MACV-SOG’s secret war in Vietnam until there was no more war to be made, and then sustained himself with clandestine work around the world. Now living in Vancouver, Kick has one goal holding him together - to finally expose Canada’s covert involvement in the Vietnam War before those dark secrets are hidden forever. With the help a local reporter and his Agency handlers, Kick races to make the story public, all while being pursued by a mysterious assassin and their team. The War Machine takes us from the savage jungles of the Vietnam War to its explosive climax in the seedy back streets of Vancouver, where Kick will either get the story to print, or die in the battle to expose the truth.\n",
      "Do you want to enter this giveaway?n\n",
      "The First Ladies by Marie Benedict\n",
      "Description: The Instant  New York Times  Bestseller! \n",
      "\n",
      "A novel about the extraordinary partnership between First Lady Eleanor Roosevelt and civil rights activist Mary McLeod Bethune—an unlikely friendship that changed the world, from the New York Times bestselling authors of the Good Morning America Book Club pick The Personal Librarian .\n",
      "\n",
      "The daughter of formerly enslaved parents, Mary McLeod Bethune refuses to back down as white supremacists attempt to thwart her work. She marches on as an activist and an educator, and as her reputation grows she becomes a celebrity, revered by titans of business and recognized by U.S. Presidents. Eleanor Roosevelt herself is awestruck and eager to make her acquaintance. Initially drawn together because of their shared belief in women’s rights and the power of education, Mary and Eleanor become fast friends confiding their secrets, hopes and dreams—and holding each other’s hands through tragedy and triumph.\n",
      " \n",
      "When Franklin Delano Roosevelt is elected president, the two women begin to collaborate more closely, particularly as Eleanor moves toward her own agenda separate from FDR, a consequence of the devastating discovery of her husband’s secret love affair. Eleanor becomes a controversial First Lady for her outspokenness, particularly on civil rights. And when she receives threats because of her strong ties to Mary, it only fuels the women’s desire to fight together for justice and equality.\n",
      " \n",
      "This is the story of two different, yet equally formidable, passionate, and committed women, and the way in which their singular friendship helped form the foundation for the modern civil rights movement.\n",
      "Do you want to enter this giveaway?y\n",
      "cant enter for some reason\n",
      "The Haunting of Moscow House by Olesya Salnikova Gilmore\n",
      "Description: In this elegant gothic horror tale set in post-revolutionary Russia, two formerly aristocratic sisters race to uncover their family’s long-buried secrets in a house haunted by a past dangerous—and deadly—to remember.\n",
      "\n",
      "It is the summer of 1921, and a group of Bolsheviks have taken over Irina and Lili Goliteva’s ancestral home in Moscow, a stately mansion falling into disrepair and decay. The remaining members of their family are ordered to move into the cramped attic, while the officials take over an entire wing of grand rooms downstairs. The sisters understand it is the way of things and know they must forget their noble upbringing to make their way in this new Soviet Russia. But the house begins to whisper of a traumatic past not as dead as they thought.\n",
      "\n",
      "Eager to escape it and their unwelcome new landlords, Irina and Lili find jobs with the recently arrived American Relief Administration, meant to ease the post-revolutionary famine in Russia. For the sisters, the ARA provides much-needed food and employment, as well as a chance for sensible Irina to help those less fortunate and artistic Lili to express herself for a good cause. It might just lead them to love, too.\n",
      "\n",
      "But at home, the spirits of their deceased family awaken, desperate to impart what really happened to them during the Revolution. Soon one of the officials living in the house is found dead. Was his death caused by something supernatural, or by someone all too human? And are Irina and Lili and their family next? Only unearthing the frightening secrets of Moscow House will reveal all. But this means the sisters must dig deep into a past no one in Russia except the dead are allowed to remember.\n",
      "Do you want to enter this giveaway?n\n",
      "The Leadership Journey: How Four Kids Became President by Doris Kearns Goodwin\n",
      "Description: From #1 New York Times bestselling author, Pulitzer Prize winner, and leading historian Doris Kearns Goodwin comes a definitive middle grade guide to Presidents Abraham Lincoln, Theodore Roosevelt, Franklin D. Roosevelt, and Lyndon B. Johnson and how they became leaders.Abraham Lincoln. Theodore Roosevelt. Franklin Delano Roosevelt. Lyndon B. Johnson. They grew up and lived in very different worlds—Lincoln was poor and uneducated, his frontier cabin home deep in the harsh wilderness; Theodore Roosevelt hailed from an elegant home in the heart of New York City and traveled the world with his family; Franklin Roosevelt loved the outdoors surrounding his family’s rural estate where he was the center of attention; and Lyndon Johnson’s modest childhood home had no electricity or running water but provided a window into Texas politics. So how did each of them do it—rise to become President of the United States? What did these four kids have individually—and have in common—that made them the ones to lead the country through some of its most turbulent times?\n"
     ]
    },
    {
     "name": "stdout",
     "output_type": "stream",
     "text": [
      "Do you want to enter this giveaway?n\n",
      "The Lies of Alma Blackwell by Amanda Glaze\n",
      "Description: For over a century, the Blackwells have protected the town of Hollow Cliff from vengeful spirits. Seventeen-year-old Nev is ready to take over for her ailing grandmother as the town’s witch protector—unlike her mother, who left when Nev was a child and never looked back. When a stranger arrives at Blackwell House of Spirits to fill a tour guide opening, Nev reluctantly offers him the job. Nev doesn’t trust Cal Murphy. He knows more than he’s letting on about Blackwell House—and about Nev herself. But Nev soon learns that she has been lied to her whole life. By following the trail of clues left behind in Blackwell House by her most powerful witch ancestor, Nev uncovers an unspeakable legacy of murder and lies...and realizes that a stranger may be the one person she can trust.  \n",
      "Do you want to enter this giveaway?n\n",
      "The Meeting Point by Olivia Lara\n",
      "Description: What if the Lift driver who finds your cheating boyfriend's phone holds the directions to true love?\n",
      "\n",
      "'Who are you and why do you have my boyfriend's phone?'\n",
      "'He left it in my car. You must be the blonde in the red dress? I'm the Lift driver who dropped you two off earlier.'\n",
      "\n",
      "And with these words, the life of the brunette and t-shirt wearing Maya Maas is turned upside down. Having planned to surprise her boyfriend, she finds herself single and stranded in an unknown city on her birthday.\n",
      "\n",
      "So when the mystery driver rescues Maya with the suggestion that she cheers herself up at a nearby beach town, she jumps at the chance to get things back on track. She wasn't expecting a personalised itinerary or the easy companionship that comes from opening up to a stranger via text, let alone the possibility it might grow into something more...\n",
      "Do you want to enter this giveaway?n\n"
     ]
    }
   ],
   "source": [
    "for i in range(len(titles)):\n",
    "    print(titles[i] + ' by ' + authors[i])\n",
    "    print('Description: ' + descr[i])\n",
    "    ans = input('\\nDo you want to enter this giveaway?')\n",
    "    if ans == 'y':\n",
    "        driver.get(links[i])\n",
    "        try:\n",
    "            driver.find_element(by=By.NAME, value=\"entry_terms\").click()\n",
    "            driver.find_element(by=By.NAME, value=\"commit\").click()\n",
    "            print('entered!!')\n",
    "        except:\n",
    "            print('cant enter for some reason')"
   ]
  },
  {
   "cell_type": "code",
   "execution_count": 26,
   "id": "b27ded8d",
   "metadata": {},
   "outputs": [],
   "source": [
    "dates = list(map(lambda x: x.text, driver.find_elements(By.XPATH, \"//article/div/div/div/div/div/div/div[@class='GiveawayMetadata__entryData']\")))"
   ]
  },
  {
   "cell_type": "code",
   "execution_count": 27,
   "id": "05171525",
   "metadata": {},
   "outputs": [
    {
     "data": {
      "text/plain": [
       "[]"
      ]
     },
     "execution_count": 27,
     "metadata": {},
     "output_type": "execute_result"
    }
   ],
   "source": [
    "dates"
   ]
  },
  {
   "cell_type": "code",
   "execution_count": null,
   "id": "72967736",
   "metadata": {},
   "outputs": [],
   "source": [
    "titles = []\n",
    "authors = []\n",
    "descr = []\n",
    "links = []\n",
    "dates = \n",
    "while dates[-1] != today:\n",
    "    titles = list(map(lambda x: x.text, driver.find_elements(By.XPATH, \"//article/div/div[@class='BookListItem__title']/h3/strong/a\")))\n",
    "    authors = list(map(lambda x: x.text, driver.find_elements(By.XPATH, \"//article/div/div/h3/div/span/a/span[@class='ContributorLink__name']\")))\n",
    "    descr = list(map(lambda x: x.text, driver.find_elements(By.XPATH, \"//article/div/div/div/span[@class='Formatted']\")))\n",
    "    links = list(map(lambda x: 'https://www.goodreads.com/giveaway/enter_print_giveaway/' + x.get_attribute(\"href\").split('enter_choose_address/')[1].replace('?ref=giv_enter_cta','?address=4645032'), driver.find_elements(By.XPATH, \"//div[@class='GiveawayMetadata__enterGiveawayButton']/a\")))"
   ]
  }
 ],
 "metadata": {
  "kernelspec": {
   "display_name": "Python 3 (ipykernel)",
   "language": "python",
   "name": "python3"
  },
  "language_info": {
   "codemirror_mode": {
    "name": "ipython",
    "version": 3
   },
   "file_extension": ".py",
   "mimetype": "text/x-python",
   "name": "python",
   "nbconvert_exporter": "python",
   "pygments_lexer": "ipython3",
   "version": "3.9.2"
  }
 },
 "nbformat": 4,
 "nbformat_minor": 5
}
