{
 "cells": [
  {
   "cell_type": "code",
   "execution_count": 1,
   "id": "952e2b3f",
   "metadata": {},
   "outputs": [],
   "source": [
    "from selenium.webdriver.common.by import By\n",
    "from selenium import webdriver\n",
    "from selenium.webdriver.chrome.options import Options\n",
    "import time\n",
    "\n",
    "driver = webdriver.Chrome()\n",
    "driver.delete_all_cookies()\n",
    "\n",
    "signed_in = False\n",
    "while not signed_in:\n",
    "    driver.get(\"https://www.goodreads.com/user/sign_in\")\n",
    "    driver.find_element(by=By.CLASS_NAME, value=\"authPortalConnectButton\").click()\n",
    "    driver.find_element(by=By.NAME, value=\"email\").send_keys(\"chshreeya@gmail.com\")\n",
    "    driver.find_element(by=By.NAME, value=\"password\").send_keys(\"Books@1234\")\n",
    "    driver.find_element(by=By.ID, value=\"signInSubmit\").click()\n",
    "    if \"https://www.goodreads.com/\" in driver.current_url:\n",
    "        signed_in = True\n",
    "    time.sleep(3)\n",
    "while \"https://www.goodreads.com/giveaway\" not in driver.current_url:\n",
    "    driver.get(\"https://www.goodreads.com/giveaway?sort=recently_listed&format=print\")\n",
    "el = driver.find_elements(By.CSS_SELECTOR, \"a\")"
   ]
  },
  {
   "cell_type": "code",
   "execution_count": null,
   "id": "39c93375",
   "metadata": {},
   "outputs": [],
   "source": [
    "driver.get(\"https://www.goodreads.com/giveaway?sort=recently_listed&format=print\")"
   ]
  },
  {
   "cell_type": "markdown",
   "id": "3c3a69a7",
   "metadata": {},
   "source": [
    "**LOGIC**\n",
    "once on giveaway page, filter to print books"
   ]
  },
  {
   "cell_type": "code",
   "execution_count": null,
   "id": "4bf57366",
   "metadata": {},
   "outputs": [],
   "source": [
    "titles = list(map(lambda x: x.text, driver.find_elements(By.XPATH, \"//article/div/div[@class='BookListItem__title']/h3/strong/a\")))\n",
    "authors = list(map(lambda x: x.text, driver.find_elements(By.XPATH, \"//article/div/div/h3/div/span/a/span[@class='ContributorLink__name']\")))\n",
    "descr = list(map(lambda x: x.text, driver.find_elements(By.XPATH, \"//article/div/div/div/span[@class='Formatted']\")))\n",
    "links = list(map(lambda x: 'https://www.goodreads.com/giveaway/enter_print_giveaway/' + x.get_attribute(\"href\").split('enter_choose_address/')[1].replace('?ref=giv_enter_cta','?address=4645032'), driver.find_elements(By.XPATH, \"//div[@class='GiveawayMetadata__enterGiveawayButton']/a\")))"
   ]
  },
  {
   "cell_type": "code",
   "execution_count": 4,
   "id": "b27ded8d",
   "metadata": {},
   "outputs": [
    {
     "data": {
      "text/plain": [
       "'May 8'"
      ]
     },
     "execution_count": 4,
     "metadata": {},
     "output_type": "execute_result"
    }
   ],
   "source": [
    "import datetime\n",
    "now = datetime.datetime.now()\n",
    "today = now.strftime(\"%B\") + \" \" + str(now.day)\n",
    "today"
   ]
  },
  {
   "cell_type": "code",
   "execution_count": 3,
   "id": "05171525",
   "metadata": {},
   "outputs": [
    {
     "data": {
      "text/plain": [
       "['May 8',\n",
       " 'May 8',\n",
       " 'May 8',\n",
       " 'May 8',\n",
       " 'May 8',\n",
       " 'May 8',\n",
       " 'May 8',\n",
       " 'May 8',\n",
       " 'May 8',\n",
       " 'May 8',\n",
       " 'May 8',\n",
       " 'May 8',\n",
       " 'May 8',\n",
       " 'May 8',\n",
       " 'May 8']"
      ]
     },
     "execution_count": 3,
     "metadata": {},
     "output_type": "execute_result"
    }
   ],
   "source": [
    "dates = list(map(lambda x: x.text.split(\" - \")[0], driver.find_elements(By.XPATH, \"//article/div/div/div[@class='GiveawayMetadata__entryData']\")))\n",
    "dates"
   ]
  },
  {
   "cell_type": "code",
   "execution_count": 11,
   "id": "267c0e7b",
   "metadata": {
    "scrolled": true
   },
   "outputs": [],
   "source": [
    "driver.find_element(By.XPATH, \"//div[@class='Divider Divider--contents Divider--largeMargin']/div/button\").click()"
   ]
  },
  {
   "cell_type": "code",
   "execution_count": 12,
   "id": "72967736",
   "metadata": {},
   "outputs": [],
   "source": [
    "dates = list(map(lambda x: x.text.split(\" - \")[0], driver.find_elements(By.XPATH, \"//article/div/div/div[@class='GiveawayMetadata__entryData']\")))\n",
    "while dates[-1] == today:\n",
    "    driver.find_element(By.XPATH, \"//i[@class='Icon ChevronIcon']\").click()\n",
    "    dates = list(map(lambda x: x.text, driver.find_elements(By.XPATH, \"//article/div/div/div/div/div/div/div[@class='GiveawayMetadata__entryData']\")))"
   ]
  },
  {
   "cell_type": "code",
   "execution_count": 13,
   "id": "a8b37431",
   "metadata": {},
   "outputs": [],
   "source": [
    "titles = list(map(lambda x: x.text, driver.find_elements(By.XPATH, \"//article/div/div[@class='BookListItem__title']/h3/strong/a\")))\n",
    "authors = list(map(lambda x: x.text, driver.find_elements(By.XPATH, \"//article/div/div/h3/div/span/a/span[@class='ContributorLink__name']\")))\n",
    "descr = list(map(lambda x: x.text, driver.find_elements(By.XPATH, \"//article/div/div/div/span[@class='Formatted']\")))\n",
    "links = list(map(lambda x: 'https://www.goodreads.com/giveaway/enter_print_giveaway/' + x.get_attribute(\"href\").split('enter_choose_address/')[1].replace('?ref=giv_enter_cta','?address=4645032'), driver.find_elements(By.XPATH, \"//div[@class='GiveawayMetadata__enterGiveawayButton']/a\")))"
   ]
  },
  {
   "cell_type": "code",
   "execution_count": 14,
   "id": "6aa3ec34",
   "metadata": {},
   "outputs": [
    {
     "name": "stdout",
     "output_type": "stream",
     "text": [
      "30 new giveaways for you\n"
     ]
    }
   ],
   "source": [
    "print(str(len(titles)) + \" new giveaways for you\")"
   ]
  },
  {
   "cell_type": "code",
   "execution_count": 15,
   "id": "a7b84d1a",
   "metadata": {
    "scrolled": true
   },
   "outputs": [
    {
     "name": "stdout",
     "output_type": "stream",
     "text": [
      "Whispers of Wisdom (Gardens in Time, #3) by Marguerite Martin Gray\n",
      "Description: Nicole wanders the ancient halls of Château Chenonceau, stirring up whispers from the secrets of a queen.\n",
      "\n",
      "Craving the wisdom of the philosophers of the day, Nicole straddles the line between servant and high society. Will acting as one of higher status bring her closer to her dreams? Perhaps not, but a treasure hunt with the knight in the tower might fulfill her longing for a while.\n",
      "\n",
      "Pierre would avoid the senseless salons full of manmade wisdom, throwing every pamphlet aside. Yet, he journeys to Chenonceau to glean knowledge from the estate manager. His goal reaches beyond the glittery, false, societal affairs to the fields of wheat, vineyards, and orchards. No fairy tales or treasure hunts for him. Not until his encounters with Nicole invade his practical world.\n",
      "\n",
      "Whispers and secrets conjure a treasure hunt, involving the heart as well as the mind.\n",
      "\n",
      "Do you want to enter this giveaway?n\n",
      "\u001b[H\u001b[2J\n",
      "Two Who Live On (Branches of Past and Future, #2) by M.N. Bennet\n",
      "Description: Going into the second semester, all Dorian wants to do is explore his relationship with Milo and prepare his students for the upcoming academy showcase. But Enchanter Evergreen’s fame makes Dorian question his place in Milo’s world. His fear of going public is complicated when he notices a shift in his telepathy that strengthens his bond to Milo in a way it never has before. Dorian finds himself forced to simultaneously navigate his work life and Milo’s enchanter cases.\n",
      "\n",
      "This amplification in his magic puts a strain on Dorian’s mind, making it difficult to prioritize his students while they struggle to rank into the showcase. Dorian wants to ensure their magics are mastered in time for the event, help them deal with trauma from the warlock incursion last semester, and teach them to handle class bullies this semester. But finding a balance is out of the question when Dorian’s mind is reeled toward dangerous threats lurking in the city.\n",
      "\n",
      "Demons. Haunting and deadly, they stalk citizens, picking off witches and warlocks alike, while Milo investigates their motives. It’s a terrifying reminder for Dorian about why he wasn’t cut out for life as an industry professional. He lost Finn to demons, and now, just as he’s finally gotten some semblance of his life back, Dorian worries he’ll lose Milo to the same fate.\n",
      "\n",
      "Do you want to enter this giveaway?n\n",
      "\u001b[H\u001b[2J\n",
      "Harmony (Parallel Planes, #2) by Ayden Lockwood\n",
      "Description: In the second installment of Parallel Planes, discover the curious and stunning world of divergence X0000BCE001 where the timeline branch occurred prior to written history. Despite all past and present indications of a world of serenity, prehistoric and modern artifacts reveal clues that the peaceful timeline persists under the shadow of dire and perpetual threat.\n",
      "\n",
      "Infused with quirky characters, vivid settings, and compelling plot-driven adventures, the Parallel Planes series takes readers who love alternate history and lighthearted fun on an enjoyable ride.\n",
      "\n",
      "Do you want to enter this giveaway?y\n",
      "entered!!\n",
      "\u001b[H\u001b[2J\n",
      "Stalk the Dark by Debbie Cassidy\n",
      "Description: A Vampire King without a heart needs a watcher who guards hers dearly, but I didn’t expect that watcher to be me.\n",
      "\n",
      "The Order of Helsing have protected the innocent from the Vampire King’s ravenous hunger and cruel games for centuries.\n",
      "\n",
      "He can’t be killed.\n",
      "\n",
      "He can’t be stopped.\n",
      "\n",
      "Because this ancient being has no master.\n",
      "\n",
      "Once every century he rises from his vampiric sleep to feed, and the Order assigns an operative to watch over him.\n",
      "\n",
      "This century, I’m that watcher.\n",
      "\n",
      "I can’t say I’m thrilled. I have a disgust for suckers, so babysitting the first of their kind is not on my to do list. But when the Order says jump, you don’t ask why.\n",
      "\n",
      "Ezekiel’s cruel beauty makes him the perfect predator, able to reel in his prey with pretty words and promises. Tempering his hunger until he falls back into a vampire coma won’t be easy. Others have tried and failed.\n",
      "\n",
      "I’m determined to avoid his kill list, and with the help of the two rogue vampire hunters assigned to assist me, I might just succeed.\n",
      "\n",
      "But the more time I spend with Ezekiel the more I’m drawn to the darkness inside him, because there’s a darkness inside me too. One which I’ve hidden for as long as I can remember. But now that it wants to come out and play, I’m afraid it isn’t just his hunger I’ll need to temper, but also my own.\n"
     ]
    },
    {
     "ename": "KeyboardInterrupt",
     "evalue": "Interrupted by user",
     "output_type": "error",
     "traceback": [
      "\u001b[0;31m---------------------------------------------------------------------------\u001b[0m",
      "\u001b[0;31mKeyboardInterrupt\u001b[0m                         Traceback (most recent call last)",
      "Cell \u001b[0;32mIn[15], line 4\u001b[0m\n\u001b[1;32m      2\u001b[0m \u001b[38;5;28mprint\u001b[39m(titles[i] \u001b[38;5;241m+\u001b[39m \u001b[38;5;124m'\u001b[39m\u001b[38;5;124m by \u001b[39m\u001b[38;5;124m'\u001b[39m \u001b[38;5;241m+\u001b[39m authors[i])\n\u001b[1;32m      3\u001b[0m \u001b[38;5;28mprint\u001b[39m(\u001b[38;5;124m'\u001b[39m\u001b[38;5;124mDescription: \u001b[39m\u001b[38;5;124m'\u001b[39m \u001b[38;5;241m+\u001b[39m descr[i])\n\u001b[0;32m----> 4\u001b[0m ans \u001b[38;5;241m=\u001b[39m \u001b[38;5;28;43minput\u001b[39;49m\u001b[43m(\u001b[49m\u001b[38;5;124;43m'\u001b[39;49m\u001b[38;5;130;43;01m\\n\u001b[39;49;00m\u001b[38;5;124;43mDo you want to enter this giveaway?\u001b[39;49m\u001b[38;5;124;43m'\u001b[39;49m\u001b[43m)\u001b[49m\n\u001b[1;32m      5\u001b[0m \u001b[38;5;28;01mif\u001b[39;00m ans \u001b[38;5;241m==\u001b[39m \u001b[38;5;124m'\u001b[39m\u001b[38;5;124my\u001b[39m\u001b[38;5;124m'\u001b[39m:\n\u001b[1;32m      6\u001b[0m     driver\u001b[38;5;241m.\u001b[39mget(links[i])\n",
      "File \u001b[0;32m/Library/Frameworks/Python.framework/Versions/3.9/lib/python3.9/site-packages/ipykernel/kernelbase.py:981\u001b[0m, in \u001b[0;36mKernel.raw_input\u001b[0;34m(self, prompt)\u001b[0m\n\u001b[1;32m    977\u001b[0m \u001b[38;5;28;01mif\u001b[39;00m \u001b[38;5;129;01mnot\u001b[39;00m \u001b[38;5;28mself\u001b[39m\u001b[38;5;241m.\u001b[39m_allow_stdin:\n\u001b[1;32m    978\u001b[0m     \u001b[38;5;28;01mraise\u001b[39;00m StdinNotImplementedError(\n\u001b[1;32m    979\u001b[0m         \u001b[38;5;124m\"\u001b[39m\u001b[38;5;124mraw_input was called, but this frontend does not support input requests.\u001b[39m\u001b[38;5;124m\"\u001b[39m\n\u001b[1;32m    980\u001b[0m     )\n\u001b[0;32m--> 981\u001b[0m \u001b[38;5;28;01mreturn\u001b[39;00m \u001b[38;5;28;43mself\u001b[39;49m\u001b[38;5;241;43m.\u001b[39;49m\u001b[43m_input_request\u001b[49m\u001b[43m(\u001b[49m\n\u001b[1;32m    982\u001b[0m \u001b[43m    \u001b[49m\u001b[38;5;28;43mstr\u001b[39;49m\u001b[43m(\u001b[49m\u001b[43mprompt\u001b[49m\u001b[43m)\u001b[49m\u001b[43m,\u001b[49m\n\u001b[1;32m    983\u001b[0m \u001b[43m    \u001b[49m\u001b[38;5;28;43mself\u001b[39;49m\u001b[38;5;241;43m.\u001b[39;49m\u001b[43m_parent_ident\u001b[49m\u001b[43m[\u001b[49m\u001b[38;5;124;43m\"\u001b[39;49m\u001b[38;5;124;43mshell\u001b[39;49m\u001b[38;5;124;43m\"\u001b[39;49m\u001b[43m]\u001b[49m\u001b[43m,\u001b[49m\n\u001b[1;32m    984\u001b[0m \u001b[43m    \u001b[49m\u001b[38;5;28;43mself\u001b[39;49m\u001b[38;5;241;43m.\u001b[39;49m\u001b[43mget_parent\u001b[49m\u001b[43m(\u001b[49m\u001b[38;5;124;43m\"\u001b[39;49m\u001b[38;5;124;43mshell\u001b[39;49m\u001b[38;5;124;43m\"\u001b[39;49m\u001b[43m)\u001b[49m\u001b[43m,\u001b[49m\n\u001b[1;32m    985\u001b[0m \u001b[43m    \u001b[49m\u001b[43mpassword\u001b[49m\u001b[38;5;241;43m=\u001b[39;49m\u001b[38;5;28;43;01mFalse\u001b[39;49;00m\u001b[43m,\u001b[49m\n\u001b[1;32m    986\u001b[0m \u001b[43m\u001b[49m\u001b[43m)\u001b[49m\n",
      "File \u001b[0;32m/Library/Frameworks/Python.framework/Versions/3.9/lib/python3.9/site-packages/ipykernel/kernelbase.py:1026\u001b[0m, in \u001b[0;36mKernel._input_request\u001b[0;34m(self, prompt, ident, parent, password)\u001b[0m\n\u001b[1;32m   1023\u001b[0m             \u001b[38;5;28;01mbreak\u001b[39;00m\n\u001b[1;32m   1024\u001b[0m \u001b[38;5;28;01mexcept\u001b[39;00m \u001b[38;5;167;01mKeyboardInterrupt\u001b[39;00m:\n\u001b[1;32m   1025\u001b[0m     \u001b[38;5;66;03m# re-raise KeyboardInterrupt, to truncate traceback\u001b[39;00m\n\u001b[0;32m-> 1026\u001b[0m     \u001b[38;5;28;01mraise\u001b[39;00m \u001b[38;5;167;01mKeyboardInterrupt\u001b[39;00m(\u001b[38;5;124m\"\u001b[39m\u001b[38;5;124mInterrupted by user\u001b[39m\u001b[38;5;124m\"\u001b[39m) \u001b[38;5;28;01mfrom\u001b[39;00m \u001b[38;5;28mNone\u001b[39m\n\u001b[1;32m   1027\u001b[0m \u001b[38;5;28;01mexcept\u001b[39;00m \u001b[38;5;167;01mException\u001b[39;00m:\n\u001b[1;32m   1028\u001b[0m     \u001b[38;5;28mself\u001b[39m\u001b[38;5;241m.\u001b[39mlog\u001b[38;5;241m.\u001b[39mwarning(\u001b[38;5;124m\"\u001b[39m\u001b[38;5;124mInvalid Message:\u001b[39m\u001b[38;5;124m\"\u001b[39m, exc_info\u001b[38;5;241m=\u001b[39m\u001b[38;5;28;01mTrue\u001b[39;00m)\n",
      "\u001b[0;31mKeyboardInterrupt\u001b[0m: Interrupted by user"
     ]
    }
   ],
   "source": [
    "for i in range(len(titles)):\n",
    "    print(titles[i] + ' by ' + authors[i])\n",
    "    print('Description: ' + descr[i])\n",
    "    ans = input('\\nDo you want to enter this giveaway?')\n",
    "    if ans == 'y':\n",
    "        driver.get(links[i])\n",
    "        try:\n",
    "            driver.find_element(by=By.NAME, value=\"entry_terms\").click()\n",
    "            driver.find_element(by=By.NAME, value=\"commit\").click()\n",
    "            print('entered!!')\n",
    "        except:\n",
    "            print('cant enter for some reason')\n",
    "    print(\"\\033[H\\033[2J\\n\", end=\"\")"
   ]
  }
 ],
 "metadata": {
  "kernelspec": {
   "display_name": "Python 3 (ipykernel)",
   "language": "python",
   "name": "python3"
  },
  "language_info": {
   "codemirror_mode": {
    "name": "ipython",
    "version": 3
   },
   "file_extension": ".py",
   "mimetype": "text/x-python",
   "name": "python",
   "nbconvert_exporter": "python",
   "pygments_lexer": "ipython3",
   "version": "3.9.2"
  }
 },
 "nbformat": 4,
 "nbformat_minor": 5
}
